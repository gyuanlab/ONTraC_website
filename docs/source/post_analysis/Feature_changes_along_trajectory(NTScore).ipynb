{
 "cells": [
  {
   "cell_type": "markdown",
   "id": "b417bd0b-fda1-4fdc-93ad-f7a8bbfdb48d",
   "metadata": {},
   "source": [
    "# Notes"
   ]
  },
  {
   "cell_type": "markdown",
   "id": "871eb730-0933-46fd-a9e7-d10742cb6f79",
   "metadata": {},
   "source": [
    "This tutorial demonstrates how to analyze feature changes along the trajectory inferred by ONTraC.\n",
    "Features may include cell type composition, gene expression, regulon activity, or any other cell-level or niche-level scores."
   ]
  },
  {
   "cell_type": "markdown",
   "id": "ea00ef26-352a-4596-bfd0-8fc46c23ceeb",
   "metadata": {},
   "source": [
    "# Load Modules"
   ]
  },
  {
   "cell_type": "code",
   "execution_count": 1,
   "id": "fbb63d3f-24ff-46ec-b349-b661400e46e6",
   "metadata": {
    "execution": {
     "iopub.execute_input": "2025-06-03T01:49:25.610779Z",
     "iopub.status.busy": "2025-06-03T01:49:25.610642Z",
     "iopub.status.idle": "2025-06-03T01:49:34.054292Z",
     "shell.execute_reply": "2025-06-03T01:49:34.053832Z",
     "shell.execute_reply.started": "2025-06-03T01:49:25.610763Z"
    },
    "tags": []
   },
   "outputs": [],
   "source": [
    "import numpy as np\n",
    "import pandas as pd\n",
    "import matplotlib as mpl\n",
    "mpl.rcParams['pdf.fonttype'] = 42\n",
    "mpl.rcParams['ps.fonttype'] = 42\n",
    "mpl.rcParams['font.sans-serif'] = 'Arial'\n",
    "import matplotlib.pyplot as plt\n",
    "import seaborn as sns\n",
    "from pprint import pprint\n",
    "%matplotlib inline"
   ]
  },
  {
   "cell_type": "code",
   "execution_count": 2,
   "id": "6efa8dab-9940-4d54-a5be-d32cc06471a4",
   "metadata": {
    "execution": {
     "iopub.execute_input": "2025-06-03T01:49:34.056499Z",
     "iopub.status.busy": "2025-06-03T01:49:34.056292Z",
     "iopub.status.idle": "2025-06-03T01:49:34.061043Z",
     "shell.execute_reply": "2025-06-03T01:49:34.060701Z",
     "shell.execute_reply.started": "2025-06-03T01:49:34.056484Z"
    },
    "tags": []
   },
   "outputs": [],
   "source": [
    "from optparse import Values"
   ]
  },
  {
   "cell_type": "code",
   "execution_count": 3,
   "id": "c77db409-ed47-40cd-95a7-9e397d7b08e1",
   "metadata": {
    "execution": {
     "iopub.execute_input": "2025-06-03T01:49:34.064302Z",
     "iopub.status.busy": "2025-06-03T01:49:34.064158Z",
     "iopub.status.idle": "2025-06-03T01:49:34.857075Z",
     "shell.execute_reply": "2025-06-03T01:49:34.856720Z",
     "shell.execute_reply.started": "2025-06-03T01:49:34.064290Z"
    },
    "tags": []
   },
   "outputs": [
    {
     "name": "stdout",
     "output_type": "stream",
     "text": [
      "##################################################################################\n",
      "\n",
      "         ▄▄█▀▀██   ▀█▄   ▀█▀ █▀▀██▀▀█                   ▄▄█▀▀▀▄█\n",
      "        ▄█▀    ██   █▀█   █     ██    ▄▄▄ ▄▄   ▄▄▄▄   ▄█▀     ▀\n",
      "        ██      ██  █ ▀█▄ █     ██     ██▀ ▀▀ ▀▀ ▄██  ██\n",
      "        ▀█▄     ██  █   ███     ██     ██     ▄█▀ ██  ▀█▄      ▄\n",
      "         ▀▀█▄▄▄█▀  ▄█▄   ▀█    ▄██▄   ▄██▄    ▀█▄▄▀█▀  ▀▀█▄▄▄▄▀\n",
      "\n",
      "                        version: 1.2.0\n",
      "\n",
      "##################################################################################\n"
     ]
    }
   ],
   "source": [
    "from ONTraC.analysis.data import AnaData\n",
    "from ONTraC.utils import write_version_info\n",
    "\n",
    "write_version_info()"
   ]
  },
  {
   "cell_type": "code",
   "execution_count": 4,
   "id": "23b1a0be-bea0-4af1-9735-0f812b5e7411",
   "metadata": {
    "execution": {
     "iopub.execute_input": "2025-06-03T01:49:34.858781Z",
     "iopub.status.busy": "2025-06-03T01:49:34.858641Z",
     "iopub.status.idle": "2025-06-03T01:49:35.118820Z",
     "shell.execute_reply": "2025-06-03T01:49:35.118483Z",
     "shell.execute_reply.started": "2025-06-03T01:49:34.858769Z"
    },
    "tags": []
   },
   "outputs": [],
   "source": [
    "from ONTraC.analysis.trajectory import (construct_meta_cell_along_trajectory,\n",
    "                                        plot_scatter_feat_along_trajectory,\n",
    "                                        plot_cell_type_composition_along_trajectory_from_anadata,\n",
    "                                        plot_cell_type_composition_along_trajectory)"
   ]
  },
  {
   "cell_type": "markdown",
   "id": "1d2f3534-2909-4e35-9c9f-290036df8888",
   "metadata": {},
   "source": [
    "# Load Data"
   ]
  },
  {
   "cell_type": "markdown",
   "id": "38da0803-9428-45f3-a0a9-46dcf0218885",
   "metadata": {},
   "source": [
    "## download dataset"
   ]
  },
  {
   "cell_type": "code",
   "execution_count": 5,
   "id": "c29943bf-2231-4679-bec3-9b1e973f4c31",
   "metadata": {
    "execution": {
     "iopub.execute_input": "2025-06-03T01:49:35.120789Z",
     "iopub.status.busy": "2025-06-03T01:49:35.120564Z",
     "iopub.status.idle": "2025-06-03T01:51:31.164808Z",
     "shell.execute_reply": "2025-06-03T01:51:31.164329Z",
     "shell.execute_reply.started": "2025-06-03T01:49:35.120777Z"
    },
    "tags": []
   },
   "outputs": [
    {
     "name": "stdout",
     "output_type": "stream",
     "text": [
      "File downloaded and saved to ./Stereo_seq_data.zip\n"
     ]
    }
   ],
   "source": [
    "import requests\n",
    "\n",
    "# URL of the file\n",
    "url = \"https://zenodo.org/records/15571644/files/Stereo_seq_data.zip\"\n",
    "\n",
    "# Local file path to save the file\n",
    "file_path = \"./Stereo_seq_data.zip\"\n",
    "\n",
    "try:\n",
    "    # Send a GET request to the URL\n",
    "    response = requests.get(url)\n",
    "    response.raise_for_status()  # Check if the request was successful\n",
    "\n",
    "    # Write the content to the file\n",
    "    with open(file_path, \"wb\") as file:\n",
    "        file.write(response.content)\n",
    "\n",
    "    print(f\"File downloaded and saved to {file_path}\")\n",
    "except requests.exceptions.RequestException as e:\n",
    "    print(f\"An error occurred: {e}\")\n"
   ]
  },
  {
   "cell_type": "code",
   "execution_count": 6,
   "id": "d124be50-d2eb-4210-9e0f-a4bdfd4513f8",
   "metadata": {
    "execution": {
     "iopub.execute_input": "2025-06-03T01:51:31.166750Z",
     "iopub.status.busy": "2025-06-03T01:51:31.166613Z",
     "iopub.status.idle": "2025-06-03T01:51:31.858298Z",
     "shell.execute_reply": "2025-06-03T01:51:31.857867Z",
     "shell.execute_reply.started": "2025-06-03T01:51:31.166737Z"
    },
    "tags": []
   },
   "outputs": [
    {
     "name": "stdout",
     "output_type": "stream",
     "text": [
      "Files extracted to './'\n"
     ]
    }
   ],
   "source": [
    "import zipfile\n",
    "\n",
    "# Path to the zip file\n",
    "zip_file_path = \"Stereo_seq_data.zip\"\n",
    "\n",
    "# Directory where files will be extracted\n",
    "extract_to_path = \"./\"\n",
    "\n",
    "try:\n",
    "    # Open the zip file\n",
    "    with zipfile.ZipFile(zip_file_path, 'r') as zip_ref:\n",
    "        # Extract all files to the specified directory\n",
    "        zip_ref.extractall(extract_to_path)\n",
    "\n",
    "    print(f\"Files extracted to '{extract_to_path}'\")\n",
    "except zipfile.BadZipFile:\n",
    "    print(\"The file is not a valid zip file.\")\n"
   ]
  },
  {
   "cell_type": "markdown",
   "id": "529847fb-3fab-4480-b76a-cc83400ca47f",
   "metadata": {},
   "source": [
    "## ONTraC output"
   ]
  },
  {
   "cell_type": "code",
   "execution_count": 7,
   "id": "4e9905e3-6c67-4cef-92da-ca5809a52f8a",
   "metadata": {
    "execution": {
     "iopub.execute_input": "2025-06-03T01:51:31.859143Z",
     "iopub.status.busy": "2025-06-03T01:51:31.858919Z",
     "iopub.status.idle": "2025-06-03T01:51:31.861515Z",
     "shell.execute_reply": "2025-06-03T01:51:31.861156Z",
     "shell.execute_reply.started": "2025-06-03T01:51:31.859129Z"
    },
    "tags": []
   },
   "outputs": [],
   "source": [
    "vis_options = Values()\n",
    "vis_options.NN_dir = './Stereo_seq_data/ONTraC_output/stereo_midbrain_base_NN/'\n",
    "vis_options.GNN_dir = './Stereo_seq_data/ONTraC_output/stereo_midbrain_base_GNN/'\n",
    "vis_options.NT_dir = './Stereo_seq_data/ONTraC_output/stereo_midbrain_base_NT/'\n",
    "vis_options.reverse = True\n",
    "vis_options.output = None"
   ]
  },
  {
   "cell_type": "code",
   "execution_count": 8,
   "id": "28e5b05a-b689-4fe0-bb70-9d55f1bc11c0",
   "metadata": {
    "execution": {
     "iopub.execute_input": "2025-06-03T01:51:31.862189Z",
     "iopub.status.busy": "2025-06-03T01:51:31.862017Z",
     "iopub.status.idle": "2025-06-03T01:51:31.893304Z",
     "shell.execute_reply": "2025-06-03T01:51:31.892953Z",
     "shell.execute_reply.started": "2025-06-03T01:51:31.862176Z"
    },
    "tags": []
   },
   "outputs": [],
   "source": [
    "ana_data = AnaData(vis_options)"
   ]
  },
  {
   "cell_type": "code",
   "execution_count": 9,
   "id": "f2fe7029-3217-4b72-91f6-614f114237ef",
   "metadata": {
    "execution": {
     "iopub.execute_input": "2025-06-03T01:51:31.893913Z",
     "iopub.status.busy": "2025-06-03T01:51:31.893774Z",
     "iopub.status.idle": "2025-06-03T01:51:31.935400Z",
     "shell.execute_reply": "2025-06-03T01:51:31.935043Z",
     "shell.execute_reply.started": "2025-06-03T01:51:31.893902Z"
    },
    "tags": []
   },
   "outputs": [
    {
     "data": {
      "text/html": [
       "<div>\n",
       "<style scoped>\n",
       "    .dataframe tbody tr th:only-of-type {\n",
       "        vertical-align: middle;\n",
       "    }\n",
       "\n",
       "    .dataframe tbody tr th {\n",
       "        vertical-align: top;\n",
       "    }\n",
       "\n",
       "    .dataframe thead th {\n",
       "        text-align: right;\n",
       "    }\n",
       "</style>\n",
       "<table border=\"1\" class=\"dataframe\">\n",
       "  <thead>\n",
       "    <tr style=\"text-align: right;\">\n",
       "      <th></th>\n",
       "      <th>Sample</th>\n",
       "      <th>Cell_Type</th>\n",
       "      <th>x</th>\n",
       "      <th>y</th>\n",
       "    </tr>\n",
       "    <tr>\n",
       "      <th>Cell_ID</th>\n",
       "      <th></th>\n",
       "      <th></th>\n",
       "      <th></th>\n",
       "      <th></th>\n",
       "    </tr>\n",
       "  </thead>\n",
       "  <tbody>\n",
       "    <tr>\n",
       "      <th>E12_E1S3_100034</th>\n",
       "      <td>E12_E1S3</td>\n",
       "      <td>Fibro</td>\n",
       "      <td>15940.0</td>\n",
       "      <td>18584.0</td>\n",
       "    </tr>\n",
       "    <tr>\n",
       "      <th>E12_E1S3_100035</th>\n",
       "      <td>E12_E1S3</td>\n",
       "      <td>Fibro</td>\n",
       "      <td>15942.0</td>\n",
       "      <td>18623.0</td>\n",
       "    </tr>\n",
       "    <tr>\n",
       "      <th>E12_E1S3_100191</th>\n",
       "      <td>E12_E1S3</td>\n",
       "      <td>Endo</td>\n",
       "      <td>15965.0</td>\n",
       "      <td>18619.0</td>\n",
       "    </tr>\n",
       "    <tr>\n",
       "      <th>E12_E1S3_100256</th>\n",
       "      <td>E12_E1S3</td>\n",
       "      <td>Fibro</td>\n",
       "      <td>15969.0</td>\n",
       "      <td>18717.0</td>\n",
       "    </tr>\n",
       "    <tr>\n",
       "      <th>E12_E1S3_100264</th>\n",
       "      <td>E12_E1S3</td>\n",
       "      <td>Fibro</td>\n",
       "      <td>15974.0</td>\n",
       "      <td>18692.0</td>\n",
       "    </tr>\n",
       "  </tbody>\n",
       "</table>\n",
       "</div>"
      ],
      "text/plain": [
       "                   Sample Cell_Type        x        y\n",
       "Cell_ID                                              \n",
       "E12_E1S3_100034  E12_E1S3     Fibro  15940.0  18584.0\n",
       "E12_E1S3_100035  E12_E1S3     Fibro  15942.0  18623.0\n",
       "E12_E1S3_100191  E12_E1S3      Endo  15965.0  18619.0\n",
       "E12_E1S3_100256  E12_E1S3     Fibro  15969.0  18717.0\n",
       "E12_E1S3_100264  E12_E1S3     Fibro  15974.0  18692.0"
      ]
     },
     "execution_count": 9,
     "metadata": {},
     "output_type": "execute_result"
    }
   ],
   "source": [
    "ana_data.meta_data_df.head()"
   ]
  },
  {
   "cell_type": "markdown",
   "id": "623f9133-3008-4601-a6bb-e4b9899bce9d",
   "metadata": {},
   "source": [
    "## regulon activities"
   ]
  },
  {
   "cell_type": "code",
   "execution_count": 10,
   "id": "3b736f0b-fe4c-4c01-8e68-793664d526e3",
   "metadata": {
    "execution": {
     "iopub.execute_input": "2025-06-03T01:51:31.936240Z",
     "iopub.status.busy": "2025-06-03T01:51:31.935945Z",
     "iopub.status.idle": "2025-06-03T01:51:33.165342Z",
     "shell.execute_reply": "2025-06-03T01:51:33.164956Z",
     "shell.execute_reply.started": "2025-06-03T01:51:31.936228Z"
    },
    "tags": []
   },
   "outputs": [
    {
     "data": {
      "text/html": [
       "<div>\n",
       "<style scoped>\n",
       "    .dataframe tbody tr th:only-of-type {\n",
       "        vertical-align: middle;\n",
       "    }\n",
       "\n",
       "    .dataframe tbody tr th {\n",
       "        vertical-align: top;\n",
       "    }\n",
       "\n",
       "    .dataframe thead th {\n",
       "        text-align: right;\n",
       "    }\n",
       "</style>\n",
       "<table border=\"1\" class=\"dataframe\">\n",
       "  <thead>\n",
       "    <tr style=\"text-align: right;\">\n",
       "      <th></th>\n",
       "      <th>Ahr</th>\n",
       "      <th>Alx1</th>\n",
       "      <th>Alx3</th>\n",
       "      <th>Alx4</th>\n",
       "      <th>Ar</th>\n",
       "    </tr>\n",
       "    <tr>\n",
       "      <th>Cell</th>\n",
       "      <th></th>\n",
       "      <th></th>\n",
       "      <th></th>\n",
       "      <th></th>\n",
       "      <th></th>\n",
       "    </tr>\n",
       "  </thead>\n",
       "  <tbody>\n",
       "    <tr>\n",
       "      <th>E12_E1S3_100034</th>\n",
       "      <td>0.0</td>\n",
       "      <td>0.014262</td>\n",
       "      <td>0.009032</td>\n",
       "      <td>0.038966</td>\n",
       "      <td>0.0</td>\n",
       "    </tr>\n",
       "    <tr>\n",
       "      <th>E12_E1S3_100035</th>\n",
       "      <td>0.0</td>\n",
       "      <td>0.017741</td>\n",
       "      <td>0.017087</td>\n",
       "      <td>0.000000</td>\n",
       "      <td>0.0</td>\n",
       "    </tr>\n",
       "    <tr>\n",
       "      <th>E12_E1S3_100191</th>\n",
       "      <td>0.0</td>\n",
       "      <td>0.009400</td>\n",
       "      <td>0.009933</td>\n",
       "      <td>0.026062</td>\n",
       "      <td>0.0</td>\n",
       "    </tr>\n",
       "    <tr>\n",
       "      <th>E12_E1S3_100256</th>\n",
       "      <td>0.0</td>\n",
       "      <td>0.017928</td>\n",
       "      <td>0.017399</td>\n",
       "      <td>0.000000</td>\n",
       "      <td>0.0</td>\n",
       "    </tr>\n",
       "    <tr>\n",
       "      <th>E12_E1S3_100264</th>\n",
       "      <td>0.0</td>\n",
       "      <td>0.019671</td>\n",
       "      <td>0.019565</td>\n",
       "      <td>0.042947</td>\n",
       "      <td>0.0</td>\n",
       "    </tr>\n",
       "  </tbody>\n",
       "</table>\n",
       "</div>"
      ],
      "text/plain": [
       "                 Ahr      Alx1      Alx3      Alx4   Ar\n",
       "Cell                                                   \n",
       "E12_E1S3_100034  0.0  0.014262  0.009032  0.038966  0.0\n",
       "E12_E1S3_100035  0.0  0.017741  0.017087  0.000000  0.0\n",
       "E12_E1S3_100191  0.0  0.009400  0.009933  0.026062  0.0\n",
       "E12_E1S3_100256  0.0  0.017928  0.017399  0.000000  0.0\n",
       "E12_E1S3_100264  0.0  0.019671  0.019565  0.042947  0.0"
      ]
     },
     "execution_count": 10,
     "metadata": {},
     "output_type": "execute_result"
    }
   ],
   "source": [
    "regulon_aucell_df = pd.read_csv('./Stereo_seq_data/source/stereo_seq.auc.csv.gz', index_col=0)\n",
    "regulon_aucell_df.iloc[:5,:5]"
   ]
  },
  {
   "cell_type": "markdown",
   "id": "34fffa2e-9751-49b5-8850-babf7977aa53",
   "metadata": {},
   "source": [
    "## differentiation potency"
   ]
  },
  {
   "cell_type": "code",
   "execution_count": 11,
   "id": "022e80a3-888a-4328-b9c9-ab02f2584712",
   "metadata": {
    "execution": {
     "iopub.execute_input": "2025-06-03T01:51:33.165971Z",
     "iopub.status.busy": "2025-06-03T01:51:33.165817Z",
     "iopub.status.idle": "2025-06-03T01:51:35.002811Z",
     "shell.execute_reply": "2025-06-03T01:51:35.002308Z",
     "shell.execute_reply.started": "2025-06-03T01:51:33.165959Z"
    },
    "tags": []
   },
   "outputs": [
    {
     "data": {
      "text/html": [
       "<div>\n",
       "<style scoped>\n",
       "    .dataframe tbody tr th:only-of-type {\n",
       "        vertical-align: middle;\n",
       "    }\n",
       "\n",
       "    .dataframe tbody tr th {\n",
       "        vertical-align: top;\n",
       "    }\n",
       "\n",
       "    .dataframe thead th {\n",
       "        text-align: right;\n",
       "    }\n",
       "</style>\n",
       "<table border=\"1\" class=\"dataframe\">\n",
       "  <thead>\n",
       "    <tr style=\"text-align: right;\">\n",
       "      <th></th>\n",
       "      <th>E16_E1S3_21</th>\n",
       "      <th>E16_E1S3_22</th>\n",
       "      <th>E16_E1S3_23</th>\n",
       "      <th>E16_E1S3_26</th>\n",
       "      <th>E16_E1S3_27</th>\n",
       "    </tr>\n",
       "  </thead>\n",
       "  <tbody>\n",
       "    <tr>\n",
       "      <th>E14_E1S3_170808</th>\n",
       "      <td>0.0</td>\n",
       "      <td>0.0</td>\n",
       "      <td>0.0</td>\n",
       "      <td>0.0</td>\n",
       "      <td>0.0</td>\n",
       "    </tr>\n",
       "    <tr>\n",
       "      <th>E14_E1S3_170916</th>\n",
       "      <td>0.0</td>\n",
       "      <td>0.0</td>\n",
       "      <td>0.0</td>\n",
       "      <td>0.0</td>\n",
       "      <td>0.0</td>\n",
       "    </tr>\n",
       "    <tr>\n",
       "      <th>E14_E1S3_170934</th>\n",
       "      <td>0.0</td>\n",
       "      <td>0.0</td>\n",
       "      <td>0.0</td>\n",
       "      <td>0.0</td>\n",
       "      <td>0.0</td>\n",
       "    </tr>\n",
       "    <tr>\n",
       "      <th>E14_E1S3_171016</th>\n",
       "      <td>0.0</td>\n",
       "      <td>0.0</td>\n",
       "      <td>0.0</td>\n",
       "      <td>0.0</td>\n",
       "      <td>0.0</td>\n",
       "    </tr>\n",
       "    <tr>\n",
       "      <th>E14_E1S3_171024</th>\n",
       "      <td>0.0</td>\n",
       "      <td>0.0</td>\n",
       "      <td>0.0</td>\n",
       "      <td>0.0</td>\n",
       "      <td>0.0</td>\n",
       "    </tr>\n",
       "  </tbody>\n",
       "</table>\n",
       "</div>"
      ],
      "text/plain": [
       "                 E16_E1S3_21  E16_E1S3_22  E16_E1S3_23  E16_E1S3_26  \\\n",
       "E14_E1S3_170808          0.0          0.0          0.0          0.0   \n",
       "E14_E1S3_170916          0.0          0.0          0.0          0.0   \n",
       "E14_E1S3_170934          0.0          0.0          0.0          0.0   \n",
       "E14_E1S3_171016          0.0          0.0          0.0          0.0   \n",
       "E14_E1S3_171024          0.0          0.0          0.0          0.0   \n",
       "\n",
       "                 E16_E1S3_27  \n",
       "E14_E1S3_170808          0.0  \n",
       "E14_E1S3_170916          0.0  \n",
       "E14_E1S3_170934          0.0  \n",
       "E14_E1S3_171016          0.0  \n",
       "E14_E1S3_171024          0.0  "
      ]
     },
     "execution_count": 11,
     "metadata": {},
     "output_type": "execute_result"
    }
   ],
   "source": [
    "ot_res1 = pd.read_csv('./Stereo_seq_data/source/moscot/E14_E16_1_cm.csv.gz', index_col=0)\n",
    "temp = pd.read_csv('./Stereo_seq_data/source/moscot/ss0_E14_E1S3_loc.csv.gz',index_col = 0)\n",
    "ot_res1.index = temp.index\n",
    "temp = pd.read_csv('./Stereo_seq_data/source/moscot/ss0_E16_E1S3_loc.csv.gz',index_col = 0)\n",
    "ot_res1.columns = temp.index\n",
    "ot_res1.iloc[:5,:5]"
   ]
  },
  {
   "cell_type": "code",
   "execution_count": 12,
   "id": "f5c51e08-c84c-4f09-81f7-2b9911abd4c6",
   "metadata": {
    "execution": {
     "iopub.execute_input": "2025-06-03T01:51:35.003721Z",
     "iopub.status.busy": "2025-06-03T01:51:35.003520Z",
     "iopub.status.idle": "2025-06-03T01:51:36.571374Z",
     "shell.execute_reply": "2025-06-03T01:51:36.570958Z",
     "shell.execute_reply.started": "2025-06-03T01:51:35.003706Z"
    },
    "tags": []
   },
   "outputs": [
    {
     "data": {
      "text/html": [
       "<div>\n",
       "<style scoped>\n",
       "    .dataframe tbody tr th:only-of-type {\n",
       "        vertical-align: middle;\n",
       "    }\n",
       "\n",
       "    .dataframe tbody tr th {\n",
       "        vertical-align: top;\n",
       "    }\n",
       "\n",
       "    .dataframe thead th {\n",
       "        text-align: right;\n",
       "    }\n",
       "</style>\n",
       "<table border=\"1\" class=\"dataframe\">\n",
       "  <thead>\n",
       "    <tr style=\"text-align: right;\">\n",
       "      <th></th>\n",
       "      <th>E16_E2S6_119</th>\n",
       "      <th>E16_E2S6_147</th>\n",
       "      <th>E16_E2S6_164</th>\n",
       "      <th>E16_E2S6_193</th>\n",
       "      <th>E16_E2S6_199</th>\n",
       "    </tr>\n",
       "  </thead>\n",
       "  <tbody>\n",
       "    <tr>\n",
       "      <th>E14_E1S3_170808</th>\n",
       "      <td>0.0</td>\n",
       "      <td>0.0</td>\n",
       "      <td>0.0</td>\n",
       "      <td>0.0</td>\n",
       "      <td>0.0</td>\n",
       "    </tr>\n",
       "    <tr>\n",
       "      <th>E14_E1S3_170916</th>\n",
       "      <td>0.0</td>\n",
       "      <td>0.0</td>\n",
       "      <td>0.0</td>\n",
       "      <td>0.0</td>\n",
       "      <td>0.0</td>\n",
       "    </tr>\n",
       "    <tr>\n",
       "      <th>E14_E1S3_170934</th>\n",
       "      <td>0.0</td>\n",
       "      <td>0.0</td>\n",
       "      <td>0.0</td>\n",
       "      <td>0.0</td>\n",
       "      <td>0.0</td>\n",
       "    </tr>\n",
       "    <tr>\n",
       "      <th>E14_E1S3_171016</th>\n",
       "      <td>0.0</td>\n",
       "      <td>0.0</td>\n",
       "      <td>0.0</td>\n",
       "      <td>0.0</td>\n",
       "      <td>0.0</td>\n",
       "    </tr>\n",
       "    <tr>\n",
       "      <th>E14_E1S3_171024</th>\n",
       "      <td>0.0</td>\n",
       "      <td>0.0</td>\n",
       "      <td>0.0</td>\n",
       "      <td>0.0</td>\n",
       "      <td>0.0</td>\n",
       "    </tr>\n",
       "  </tbody>\n",
       "</table>\n",
       "</div>"
      ],
      "text/plain": [
       "                 E16_E2S6_119  E16_E2S6_147  E16_E2S6_164  E16_E2S6_193  \\\n",
       "E14_E1S3_170808           0.0           0.0           0.0           0.0   \n",
       "E14_E1S3_170916           0.0           0.0           0.0           0.0   \n",
       "E14_E1S3_170934           0.0           0.0           0.0           0.0   \n",
       "E14_E1S3_171016           0.0           0.0           0.0           0.0   \n",
       "E14_E1S3_171024           0.0           0.0           0.0           0.0   \n",
       "\n",
       "                 E16_E2S6_199  \n",
       "E14_E1S3_170808           0.0  \n",
       "E14_E1S3_170916           0.0  \n",
       "E14_E1S3_170934           0.0  \n",
       "E14_E1S3_171016           0.0  \n",
       "E14_E1S3_171024           0.0  "
      ]
     },
     "execution_count": 12,
     "metadata": {},
     "output_type": "execute_result"
    }
   ],
   "source": [
    "ot_res2 = pd.read_csv('./Stereo_seq_data/source/moscot/E14_E16_2_cm.csv.gz', index_col=0)\n",
    "temp = pd.read_csv('./Stereo_seq_data/source/moscot/ss0_E14_E1S3_loc.csv.gz',index_col = 0)\n",
    "ot_res2.index = temp.index\n",
    "temp = pd.read_csv('./Stereo_seq_data/source/moscot/ss0_E16_E2S6_loc.csv.gz',index_col = 0)\n",
    "ot_res2.columns = temp.index\n",
    "ot_res2.iloc[:5,:5]"
   ]
  },
  {
   "cell_type": "code",
   "execution_count": 13,
   "id": "f789b67e-7fbd-44ba-a60e-7692608626e8",
   "metadata": {
    "execution": {
     "iopub.execute_input": "2025-06-03T01:51:36.572197Z",
     "iopub.status.busy": "2025-06-03T01:51:36.571994Z",
     "iopub.status.idle": "2025-06-03T01:51:38.577076Z",
     "shell.execute_reply": "2025-06-03T01:51:38.576679Z",
     "shell.execute_reply.started": "2025-06-03T01:51:36.572184Z"
    },
    "tags": []
   },
   "outputs": [
    {
     "data": {
      "text/html": [
       "<div>\n",
       "<style scoped>\n",
       "    .dataframe tbody tr th:only-of-type {\n",
       "        vertical-align: middle;\n",
       "    }\n",
       "\n",
       "    .dataframe tbody tr th {\n",
       "        vertical-align: top;\n",
       "    }\n",
       "\n",
       "    .dataframe thead th {\n",
       "        text-align: right;\n",
       "    }\n",
       "</style>\n",
       "<table border=\"1\" class=\"dataframe\">\n",
       "  <thead>\n",
       "    <tr style=\"text-align: right;\">\n",
       "      <th></th>\n",
       "      <th>E16_E2S7_291152</th>\n",
       "      <th>E16_E2S7_291165</th>\n",
       "      <th>E16_E2S7_291300</th>\n",
       "      <th>E16_E2S7_291398</th>\n",
       "      <th>E16_E2S7_291435</th>\n",
       "    </tr>\n",
       "  </thead>\n",
       "  <tbody>\n",
       "    <tr>\n",
       "      <th>E14_E1S3_170808</th>\n",
       "      <td>0.0</td>\n",
       "      <td>1.598103e-18</td>\n",
       "      <td>0.0</td>\n",
       "      <td>0.0</td>\n",
       "      <td>7.107961e-09</td>\n",
       "    </tr>\n",
       "    <tr>\n",
       "      <th>E14_E1S3_170916</th>\n",
       "      <td>0.0</td>\n",
       "      <td>0.000000e+00</td>\n",
       "      <td>0.0</td>\n",
       "      <td>0.0</td>\n",
       "      <td>0.000000e+00</td>\n",
       "    </tr>\n",
       "    <tr>\n",
       "      <th>E14_E1S3_170934</th>\n",
       "      <td>0.0</td>\n",
       "      <td>0.000000e+00</td>\n",
       "      <td>0.0</td>\n",
       "      <td>0.0</td>\n",
       "      <td>0.000000e+00</td>\n",
       "    </tr>\n",
       "    <tr>\n",
       "      <th>E14_E1S3_171016</th>\n",
       "      <td>0.0</td>\n",
       "      <td>0.000000e+00</td>\n",
       "      <td>0.0</td>\n",
       "      <td>0.0</td>\n",
       "      <td>0.000000e+00</td>\n",
       "    </tr>\n",
       "    <tr>\n",
       "      <th>E14_E1S3_171024</th>\n",
       "      <td>0.0</td>\n",
       "      <td>0.000000e+00</td>\n",
       "      <td>0.0</td>\n",
       "      <td>0.0</td>\n",
       "      <td>0.000000e+00</td>\n",
       "    </tr>\n",
       "  </tbody>\n",
       "</table>\n",
       "</div>"
      ],
      "text/plain": [
       "                 E16_E2S7_291152  E16_E2S7_291165  E16_E2S7_291300  \\\n",
       "E14_E1S3_170808              0.0     1.598103e-18              0.0   \n",
       "E14_E1S3_170916              0.0     0.000000e+00              0.0   \n",
       "E14_E1S3_170934              0.0     0.000000e+00              0.0   \n",
       "E14_E1S3_171016              0.0     0.000000e+00              0.0   \n",
       "E14_E1S3_171024              0.0     0.000000e+00              0.0   \n",
       "\n",
       "                 E16_E2S7_291398  E16_E2S7_291435  \n",
       "E14_E1S3_170808              0.0     7.107961e-09  \n",
       "E14_E1S3_170916              0.0     0.000000e+00  \n",
       "E14_E1S3_170934              0.0     0.000000e+00  \n",
       "E14_E1S3_171016              0.0     0.000000e+00  \n",
       "E14_E1S3_171024              0.0     0.000000e+00  "
      ]
     },
     "execution_count": 13,
     "metadata": {},
     "output_type": "execute_result"
    }
   ],
   "source": [
    "ot_res3 = pd.read_csv('./Stereo_seq_data/source/moscot/E14_E16_3_cm.csv.gz', index_col=0)\n",
    "temp = pd.read_csv('./Stereo_seq_data/source/moscot/ss0_E14_E1S3_loc.csv.gz',index_col = 0)\n",
    "ot_res3.index = temp.index\n",
    "temp = pd.read_csv('./Stereo_seq_data/source/moscot/ss0_E16_E2S7_loc.csv.gz',index_col = 0)\n",
    "ot_res3.columns = temp.index\n",
    "ot_res3.iloc[:5,:5]"
   ]
  },
  {
   "cell_type": "markdown",
   "id": "8f2fd553-1574-4c24-827f-9e03744bc5db",
   "metadata": {},
   "source": [
    "## gene expression"
   ]
  },
  {
   "cell_type": "code",
   "execution_count": 14,
   "id": "890d3217-67eb-4198-8e62-1547df13c42d",
   "metadata": {
    "execution": {
     "iopub.execute_input": "2025-06-03T01:51:38.577804Z",
     "iopub.status.busy": "2025-06-03T01:51:38.577612Z",
     "iopub.status.idle": "2025-06-03T01:51:42.957950Z",
     "shell.execute_reply": "2025-06-03T01:51:42.957613Z",
     "shell.execute_reply.started": "2025-06-03T01:51:38.577791Z"
    },
    "tags": []
   },
   "outputs": [
    {
     "data": {
      "text/html": [
       "<div>\n",
       "<style scoped>\n",
       "    .dataframe tbody tr th:only-of-type {\n",
       "        vertical-align: middle;\n",
       "    }\n",
       "\n",
       "    .dataframe tbody tr th {\n",
       "        vertical-align: top;\n",
       "    }\n",
       "\n",
       "    .dataframe thead th {\n",
       "        text-align: right;\n",
       "    }\n",
       "</style>\n",
       "<table border=\"1\" class=\"dataframe\">\n",
       "  <thead>\n",
       "    <tr style=\"text-align: right;\">\n",
       "      <th></th>\n",
       "      <th>0610005C13Rik</th>\n",
       "      <th>0610006L08Rik</th>\n",
       "      <th>0610009B22Rik</th>\n",
       "      <th>0610009O20Rik</th>\n",
       "      <th>0610010F05Rik</th>\n",
       "    </tr>\n",
       "    <tr>\n",
       "      <th>Cell_ID</th>\n",
       "      <th></th>\n",
       "      <th></th>\n",
       "      <th></th>\n",
       "      <th></th>\n",
       "      <th></th>\n",
       "    </tr>\n",
       "  </thead>\n",
       "  <tbody>\n",
       "    <tr>\n",
       "      <th>E14_E1S3_171289</th>\n",
       "      <td>-0.036511</td>\n",
       "      <td>-0.008535</td>\n",
       "      <td>-0.198124</td>\n",
       "      <td>-0.106792</td>\n",
       "      <td>-0.239179</td>\n",
       "    </tr>\n",
       "    <tr>\n",
       "      <th>E14_E1S3_171863</th>\n",
       "      <td>-0.036511</td>\n",
       "      <td>-0.008535</td>\n",
       "      <td>-0.198124</td>\n",
       "      <td>-0.106792</td>\n",
       "      <td>-0.239179</td>\n",
       "    </tr>\n",
       "    <tr>\n",
       "      <th>E14_E1S3_171967</th>\n",
       "      <td>-0.036511</td>\n",
       "      <td>-0.008535</td>\n",
       "      <td>-0.198124</td>\n",
       "      <td>-0.106792</td>\n",
       "      <td>-0.239179</td>\n",
       "    </tr>\n",
       "    <tr>\n",
       "      <th>E14_E1S3_171983</th>\n",
       "      <td>-0.036511</td>\n",
       "      <td>-0.008535</td>\n",
       "      <td>-0.198124</td>\n",
       "      <td>-0.106792</td>\n",
       "      <td>-0.239179</td>\n",
       "    </tr>\n",
       "    <tr>\n",
       "      <th>E14_E1S3_172013</th>\n",
       "      <td>-0.036511</td>\n",
       "      <td>-0.008535</td>\n",
       "      <td>-0.198124</td>\n",
       "      <td>-0.106792</td>\n",
       "      <td>-0.239179</td>\n",
       "    </tr>\n",
       "  </tbody>\n",
       "</table>\n",
       "</div>"
      ],
      "text/plain": [
       "                 0610005C13Rik  0610006L08Rik  0610009B22Rik  0610009O20Rik  \\\n",
       "Cell_ID                                                                       \n",
       "E14_E1S3_171289      -0.036511      -0.008535      -0.198124      -0.106792   \n",
       "E14_E1S3_171863      -0.036511      -0.008535      -0.198124      -0.106792   \n",
       "E14_E1S3_171967      -0.036511      -0.008535      -0.198124      -0.106792   \n",
       "E14_E1S3_171983      -0.036511      -0.008535      -0.198124      -0.106792   \n",
       "E14_E1S3_172013      -0.036511      -0.008535      -0.198124      -0.106792   \n",
       "\n",
       "                 0610010F05Rik  \n",
       "Cell_ID                         \n",
       "E14_E1S3_171289      -0.239179  \n",
       "E14_E1S3_171863      -0.239179  \n",
       "E14_E1S3_171967      -0.239179  \n",
       "E14_E1S3_171983      -0.239179  \n",
       "E14_E1S3_172013      -0.239179  "
      ]
     },
     "execution_count": 14,
     "metadata": {},
     "output_type": "execute_result"
    }
   ],
   "source": [
    "E14_RGC_scaled_exp = pd.read_csv('./Stereo_seq_data/source/stereo_seq_E14_RGC_scaled_exp.csv.gz', index_col=0)\n",
    "E14_RGC_scaled_exp.iloc[:5,:5]"
   ]
  },
  {
   "cell_type": "markdown",
   "id": "57fe2841-8f2d-40b3-afdd-45f1f8268e84",
   "metadata": {},
   "source": [
    "# cell type composition along trajcetory"
   ]
  },
  {
   "cell_type": "markdown",
   "id": "e66d370c-da34-450a-844a-f7315ec513c4",
   "metadata": {},
   "source": [
    "## cell type composition change for all cells"
   ]
  },
  {
   "cell_type": "code",
   "execution_count": 15,
   "id": "02f7d3b4-11a5-4073-95a5-1e8241e2c200",
   "metadata": {
    "execution": {
     "iopub.execute_input": "2025-06-03T01:51:42.958650Z",
     "iopub.status.busy": "2025-06-03T01:51:42.958469Z",
     "iopub.status.idle": "2025-06-03T01:51:43.358603Z",
     "shell.execute_reply": "2025-06-03T01:51:43.358237Z",
     "shell.execute_reply.started": "2025-06-03T01:51:42.958637Z"
    },
    "tags": []
   },
   "outputs": [
    {
     "data": {
      "image/png": "[encoded data removed]",
      "text/plain": [
       "<Figure size 700x300 with 1 Axes>"
      ]
     },
     "metadata": {},
     "output_type": "display_data"
    }
   ],
   "source": [
    "fig, ax = plot_cell_type_composition_along_trajectory_from_anadata(\n",
    "    ana_data=ana_data,  # AnaData object\n",
    "    cell_types=None,  # Column name(s) in AnaData.meta_data_df that contains the cell type information.\n",
    "                      # Default is None, which means all cell types in AnaData.cell_type_codes will be used.\n",
    "    agg_cell_num=100,  # Number of cells to aggregate in each bin along the trajectory. Default is 10. 1 means no aggregation.\n",
    "    figsize=(7,3),  # Figure size. Default is (6, 2).\n",
    "    palette=None,  # Color palette for cell types. If None, use default color palette. Keys are cell types and values are colors.\n",
    "    output_file_path=None  # Path to save the figure. If None, the default path\n",
    "                           # {ana_data.options.output}/lineplot_raw_cell_type_composition_along_trajectory.pdf is used. \n",
    "                           # If ana_data.options.output is also None, the figure will not be saved and the function \n",
    "                           # will return the figure and axes objects instead.\n",
    ")"
   ]
  },
  {
   "cell_type": "markdown",
   "id": "6507f237-868a-4500-bbfd-710e5eb7895a",
   "metadata": {},
   "source": [
    "## cell type composition change for RGC only"
   ]
  },
  {
   "cell_type": "code",
   "execution_count": 16,
   "id": "682e7206-15fc-4126-ae36-14e5a161c525",
   "metadata": {
    "execution": {
     "iopub.execute_input": "2025-06-03T01:51:43.359284Z",
     "iopub.status.busy": "2025-06-03T01:51:43.359114Z",
     "iopub.status.idle": "2025-06-03T01:51:43.367152Z",
     "shell.execute_reply": "2025-06-03T01:51:43.366788Z",
     "shell.execute_reply.started": "2025-06-03T01:51:43.359272Z"
    },
    "tags": []
   },
   "outputs": [],
   "source": [
    "# create data_df\n",
    "data_df = ana_data.meta_data_df.copy()\n",
    "data_df = data_df.join(1 - ana_data.NT_score['Cell_NTScore'] if hasattr(ana_data.options, 'reverse')\n",
    "                       and ana_data.options.reverse else ana_data.NT_score['Cell_NTScore'])\n",
    "data_df = data_df.join(ana_data.cell_type_composition)"
   ]
  },
  {
   "cell_type": "code",
   "execution_count": 17,
   "id": "afa951eb-fa98-4521-99dd-ce522b225bd3",
   "metadata": {
    "execution": {
     "iopub.execute_input": "2025-06-03T01:51:43.367801Z",
     "iopub.status.busy": "2025-06-03T01:51:43.367642Z",
     "iopub.status.idle": "2025-06-03T01:51:43.493489Z",
     "shell.execute_reply": "2025-06-03T01:51:43.493155Z",
     "shell.execute_reply.started": "2025-06-03T01:51:43.367789Z"
    },
    "tags": []
   },
   "outputs": [],
   "source": [
    "# filtering with cell type\n",
    "data_df = data_df[data_df['Cell_Type'] == 'RGC']"
   ]
  },
  {
   "cell_type": "code",
   "execution_count": 18,
   "id": "e170ffa6-1d3f-4b15-ac4a-688a00e1c0d6",
   "metadata": {
    "execution": {
     "iopub.execute_input": "2025-06-03T01:51:43.494233Z",
     "iopub.status.busy": "2025-06-03T01:51:43.494046Z",
     "iopub.status.idle": "2025-06-03T01:51:43.622295Z",
     "shell.execute_reply": "2025-06-03T01:51:43.621950Z",
     "shell.execute_reply.started": "2025-06-03T01:51:43.494222Z"
    },
    "tags": []
   },
   "outputs": [],
   "source": [
    "cell_types = ana_data.cell_type_codes['Cell_Type'].values.tolist()"
   ]
  },
  {
   "cell_type": "code",
   "execution_count": 19,
   "id": "1e39c501-3b83-431e-b886-d4e0c926fcac",
   "metadata": {
    "execution": {
     "iopub.execute_input": "2025-06-03T01:51:43.623025Z",
     "iopub.status.busy": "2025-06-03T01:51:43.622843Z",
     "iopub.status.idle": "2025-06-03T01:51:43.906479Z",
     "shell.execute_reply": "2025-06-03T01:51:43.906137Z",
     "shell.execute_reply.started": "2025-06-03T01:51:43.623011Z"
    },
    "tags": []
   },
   "outputs": [
    {
     "data": {
      "image/png": "[encoded data removed]",
      "text/plain": [
       "<Figure size 700x300 with 1 Axes>"
      ]
     },
     "metadata": {},
     "output_type": "display_data"
    }
   ],
   "source": [
    "fig ,ax = plot_cell_type_composition_along_trajectory(\n",
    "    data_df=data_df,\n",
    "    trajectory='Cell_NTScore',\n",
    "    cell_types=cell_types, # type: ignore\n",
    "    agg_cell_num=100,\n",
    "    figsize=(7,3),\n",
    "    palette=None,\n",
    "    output_file_path=None,\n",
    ")"
   ]
  },
  {
   "cell_type": "markdown",
   "id": "27fec3ea-d774-450d-8ced-94560caba692",
   "metadata": {},
   "source": [
    "# gene expression along trajectory"
   ]
  },
  {
   "cell_type": "code",
   "execution_count": 20,
   "id": "48d311a9-a536-4e85-afb1-82490f9f4601",
   "metadata": {
    "execution": {
     "iopub.execute_input": "2025-06-03T01:51:43.907153Z",
     "iopub.status.busy": "2025-06-03T01:51:43.907003Z",
     "iopub.status.idle": "2025-06-03T01:51:43.932213Z",
     "shell.execute_reply": "2025-06-03T01:51:43.931866Z",
     "shell.execute_reply.started": "2025-06-03T01:51:43.907143Z"
    },
    "tags": []
   },
   "outputs": [],
   "source": [
    "target_cells = ana_data.meta_data_df[(ana_data.meta_data_df['Cell_Type'] == 'RGC') & (ana_data.meta_data_df['Sample'] == 'E14_E1S3')]\n",
    "E14_RGC_gene_exp_df = E14_RGC_scaled_exp.join(1 - ana_data.NT_score['Cell_NTScore'] if hasattr(ana_data.options, 'reverse')\n",
    "                       and ana_data.options.reverse else ana_data.NT_score['Cell_NTScore'])"
   ]
  },
  {
   "cell_type": "code",
   "execution_count": 21,
   "id": "35f19676-488d-40a9-8e76-21585fdb6fa6",
   "metadata": {
    "execution": {
     "iopub.execute_input": "2025-06-03T01:51:43.933002Z",
     "iopub.status.busy": "2025-06-03T01:51:43.932801Z",
     "iopub.status.idle": "2025-06-03T01:51:44.756597Z",
     "shell.execute_reply": "2025-06-03T01:51:44.756224Z",
     "shell.execute_reply.started": "2025-06-03T01:51:43.932990Z"
    },
    "tags": []
   },
   "outputs": [
    {
     "data": {
      "text/html": [
       "<div>\n",
       "<style scoped>\n",
       "    .dataframe tbody tr th:only-of-type {\n",
       "        vertical-align: middle;\n",
       "    }\n",
       "\n",
       "    .dataframe tbody tr th {\n",
       "        vertical-align: top;\n",
       "    }\n",
       "\n",
       "    .dataframe thead th {\n",
       "        text-align: right;\n",
       "    }\n",
       "</style>\n",
       "<table border=\"1\" class=\"dataframe\">\n",
       "  <thead>\n",
       "    <tr style=\"text-align: right;\">\n",
       "      <th></th>\n",
       "      <th>0610005C13Rik</th>\n",
       "      <th>0610006L08Rik</th>\n",
       "      <th>0610009B22Rik</th>\n",
       "      <th>0610009O20Rik</th>\n",
       "      <th>0610010F05Rik</th>\n",
       "    </tr>\n",
       "    <tr>\n",
       "      <th>Cell_ID</th>\n",
       "      <th></th>\n",
       "      <th></th>\n",
       "      <th></th>\n",
       "      <th></th>\n",
       "      <th></th>\n",
       "    </tr>\n",
       "  </thead>\n",
       "  <tbody>\n",
       "    <tr>\n",
       "      <th>E14_E1S3_173789</th>\n",
       "      <td>-0.036511</td>\n",
       "      <td>-0.008535</td>\n",
       "      <td>-0.198124</td>\n",
       "      <td>-0.106792</td>\n",
       "      <td>-0.239179</td>\n",
       "    </tr>\n",
       "    <tr>\n",
       "      <th>E14_E1S3_173259</th>\n",
       "      <td>-0.036511</td>\n",
       "      <td>-0.008535</td>\n",
       "      <td>-0.198124</td>\n",
       "      <td>-0.106792</td>\n",
       "      <td>0.117162</td>\n",
       "    </tr>\n",
       "    <tr>\n",
       "      <th>E14_E1S3_174106</th>\n",
       "      <td>-0.036511</td>\n",
       "      <td>-0.008535</td>\n",
       "      <td>-0.198124</td>\n",
       "      <td>-0.106792</td>\n",
       "      <td>-0.239179</td>\n",
       "    </tr>\n",
       "    <tr>\n",
       "      <th>E14_E1S3_173417</th>\n",
       "      <td>-0.036511</td>\n",
       "      <td>-0.008535</td>\n",
       "      <td>-0.198124</td>\n",
       "      <td>-0.106792</td>\n",
       "      <td>-0.239179</td>\n",
       "    </tr>\n",
       "    <tr>\n",
       "      <th>E14_E1S3_173284</th>\n",
       "      <td>-0.036511</td>\n",
       "      <td>-0.008535</td>\n",
       "      <td>-0.198124</td>\n",
       "      <td>-0.106792</td>\n",
       "      <td>-0.239179</td>\n",
       "    </tr>\n",
       "  </tbody>\n",
       "</table>\n",
       "</div>"
      ],
      "text/plain": [
       "                 0610005C13Rik  0610006L08Rik  0610009B22Rik  0610009O20Rik  \\\n",
       "Cell_ID                                                                       \n",
       "E14_E1S3_173789      -0.036511      -0.008535      -0.198124      -0.106792   \n",
       "E14_E1S3_173259      -0.036511      -0.008535      -0.198124      -0.106792   \n",
       "E14_E1S3_174106      -0.036511      -0.008535      -0.198124      -0.106792   \n",
       "E14_E1S3_173417      -0.036511      -0.008535      -0.198124      -0.106792   \n",
       "E14_E1S3_173284      -0.036511      -0.008535      -0.198124      -0.106792   \n",
       "\n",
       "                 0610010F05Rik  \n",
       "Cell_ID                         \n",
       "E14_E1S3_173789      -0.239179  \n",
       "E14_E1S3_173259       0.117162  \n",
       "E14_E1S3_174106      -0.239179  \n",
       "E14_E1S3_173417      -0.239179  \n",
       "E14_E1S3_173284      -0.239179  "
      ]
     },
     "execution_count": 21,
     "metadata": {},
     "output_type": "execute_result"
    }
   ],
   "source": [
    "E14_RGC_gene_exp_metacell_data_df = construct_meta_cell_along_trajectory(meta_data_df = E14_RGC_gene_exp_df,\n",
    "                                                                trajectory = 'Cell_NTScore',\n",
    "                                                                n_cells = 10)\n",
    "E14_RGC_gene_exp_metacell_data_df.iloc[:5,:5]\n"
   ]
  },
  {
   "cell_type": "code",
   "execution_count": 22,
   "id": "552b51ae-97aa-4b98-8a87-85ffabd9f2da",
   "metadata": {
    "execution": {
     "iopub.execute_input": "2025-06-03T01:51:44.757430Z",
     "iopub.status.busy": "2025-06-03T01:51:44.757233Z",
     "iopub.status.idle": "2025-06-03T01:51:44.851688Z",
     "shell.execute_reply": "2025-06-03T01:51:44.851367Z",
     "shell.execute_reply.started": "2025-06-03T01:51:44.757417Z"
    },
    "tags": []
   },
   "outputs": [
    {
     "data": {
      "image/png": "[encoded data removed]",
      "text/plain": [
       "<Figure size 400x300 with 1 Axes>"
      ]
     },
     "metadata": {},
     "output_type": "display_data"
    }
   ],
   "source": [
    "fig, ax = plot_scatter_feat_along_trajectory(\n",
    "    data_df = E14_RGC_gene_exp_metacell_data_df,\n",
    "    trajectory = 'Cell_NTScore',\n",
    "    feature = 'Ppia',\n",
    "    fit_reg = True,\n",
    "    annotate_pos = 'upper right',\n",
    "    figszie = (4,3),\n",
    "    ylabel = 'Normalized Gene Expression',\n",
    ")"
   ]
  },
  {
   "cell_type": "code",
   "execution_count": 23,
   "id": "1d1b3d55-b97f-4631-8969-76ce17ab243a",
   "metadata": {
    "execution": {
     "iopub.execute_input": "2025-06-03T01:51:44.852499Z",
     "iopub.status.busy": "2025-06-03T01:51:44.852281Z",
     "iopub.status.idle": "2025-06-03T01:51:45.110918Z",
     "shell.execute_reply": "2025-06-03T01:51:45.110572Z",
     "shell.execute_reply.started": "2025-06-03T01:51:44.852486Z"
    },
    "tags": []
   },
   "outputs": [
    {
     "data": {
      "image/png": "[encoded data removed]",
      "text/plain": [
       "<Figure size 400x300 with 1 Axes>"
      ]
     },
     "metadata": {},
     "output_type": "display_data"
    }
   ],
   "source": [
    "fig, ax = plot_scatter_feat_along_trajectory(\n",
    "    data_df = E14_RGC_gene_exp_metacell_data_df,\n",
    "    trajectory = 'Cell_NTScore',\n",
    "    feature = 'Cdkn1c',\n",
    "    fit_reg = True,\n",
    "    annotate_pos = 'upper left',\n",
    "    figszie = (4,3),\n",
    "    ylabel = 'Normalized Gene Expression',\n",
    "    ci=95,  # Size of the confidence interval for the regression estimate\n",
    ")"
   ]
  },
  {
   "cell_type": "code",
   "execution_count": 24,
   "id": "faece306-4e4f-4c5a-96a7-def89f63d66a",
   "metadata": {
    "execution": {
     "iopub.execute_input": "2025-06-03T01:51:45.111592Z",
     "iopub.status.busy": "2025-06-03T01:51:45.111445Z",
     "iopub.status.idle": "2025-06-03T01:51:45.353329Z",
     "shell.execute_reply": "2025-06-03T01:51:45.352954Z",
     "shell.execute_reply.started": "2025-06-03T01:51:45.111579Z"
    },
    "tags": []
   },
   "outputs": [
    {
     "data": {
      "image/png": "[encoded data removed]",
      "text/plain": [
       "<Figure size 400x300 with 1 Axes>"
      ]
     },
     "metadata": {},
     "output_type": "display_data"
    }
   ],
   "source": [
    "fig, ax = plot_scatter_feat_along_trajectory(\n",
    "    data_df = E14_RGC_gene_exp_metacell_data_df,\n",
    "    trajectory = 'Cell_NTScore',\n",
    "    feature = 'Ccnd2',\n",
    "    fit_reg = True,\n",
    "    annotate_pos = 'upper right',\n",
    "    figszie = (4,3),\n",
    "    ylabel = 'Normalized Gene Expression',\n",
    "    line_kws = {'color': 'green', 'lw': 4},  # line parameters\n",
    "    ci=70,  # Size of the confidence interval for the regression estimate\n",
    ")"
   ]
  },
  {
   "cell_type": "code",
   "execution_count": 25,
   "id": "86614933-842e-4e59-be0a-2d2efb0fddd7",
   "metadata": {
    "execution": {
     "iopub.execute_input": "2025-06-03T01:51:45.356449Z",
     "iopub.status.busy": "2025-06-03T01:51:45.356127Z",
     "iopub.status.idle": "2025-06-03T01:51:45.586322Z",
     "shell.execute_reply": "2025-06-03T01:51:45.586006Z",
     "shell.execute_reply.started": "2025-06-03T01:51:45.356437Z"
    },
    "tags": []
   },
   "outputs": [
    {
     "data": {
      "image/png": "[encoded data removed]",
      "text/plain": [
       "<Figure size 400x300 with 1 Axes>"
      ]
     },
     "metadata": {},
     "output_type": "display_data"
    }
   ],
   "source": [
    "fig, ax = plot_scatter_feat_along_trajectory(\n",
    "    data_df = E14_RGC_gene_exp_metacell_data_df,\n",
    "    trajectory = 'Cell_NTScore',\n",
    "    feature = 'Phf21b',\n",
    "    fit_reg = True,\n",
    "    annotate_pos = 'upper left',\n",
    "    figszie = (4,3),\n",
    "    ylabel = 'Normalized Gene Expression',\n",
    "    scatter_kws = {'color': 'orange', 'edgecolor': 'gray', 's': 50},  # scatter parameters\n",
    ")"
   ]
  },
  {
   "cell_type": "code",
   "execution_count": 26,
   "id": "5db78ce2-84aa-4705-98c4-2fa18fb1b5f8",
   "metadata": {
    "execution": {
     "iopub.execute_input": "2025-06-03T01:51:45.587043Z",
     "iopub.status.busy": "2025-06-03T01:51:45.586846Z",
     "iopub.status.idle": "2025-06-03T01:51:45.900939Z",
     "shell.execute_reply": "2025-06-03T01:51:45.900623Z",
     "shell.execute_reply.started": "2025-06-03T01:51:45.587031Z"
    },
    "tags": []
   },
   "outputs": [
    {
     "data": {
      "image/png": "[encoded data removed]",
      "text/plain": [
       "<Figure size 400x300 with 1 Axes>"
      ]
     },
     "metadata": {},
     "output_type": "display_data"
    }
   ],
   "source": [
    "fig, ax = plot_scatter_feat_along_trajectory(\n",
    "    data_df = E14_RGC_gene_exp_metacell_data_df,\n",
    "    trajectory = 'Cell_NTScore',\n",
    "    feature = 'Efna5',\n",
    "    fit_reg = True,\n",
    "    annotate_pos = 'upper right',\n",
    "    figszie = (4,3),\n",
    "    ylabel = 'Normalized Gene Expression',\n",
    "    scatter_kws = {'color': 'purple', 'edgecolor': 'gray', 's': 50},  # scatter parameters\n",
    "    line_kws = {'color': 'blue', 'lw': 4, 'ls': '--'},  # line parameters\n",
    "    ci = 95,  # Size of the confidence interval for the regression estimate\n",
    "    marker = '*',  # Marker to use for the scatterplot glyphs.\n",
    ")"
   ]
  },
  {
   "cell_type": "code",
   "execution_count": 27,
   "id": "552875de-4560-42a5-9abb-f61f7710503e",
   "metadata": {
    "execution": {
     "iopub.execute_input": "2025-06-03T01:51:45.901571Z",
     "iopub.status.busy": "2025-06-03T01:51:45.901421Z",
     "iopub.status.idle": "2025-06-03T01:51:46.062742Z",
     "shell.execute_reply": "2025-06-03T01:51:46.062381Z",
     "shell.execute_reply.started": "2025-06-03T01:51:45.901559Z"
    },
    "tags": []
   },
   "outputs": [
    {
     "data": {
      "image/png": "[encoded data removed]",
      "text/plain": [
       "<Figure size 400x300 with 1 Axes>"
      ]
     },
     "metadata": {},
     "output_type": "display_data"
    }
   ],
   "source": [
    "fig, ax = plot_scatter_feat_along_trajectory(\n",
    "    data_df = E14_RGC_gene_exp_metacell_data_df,\n",
    "    trajectory = 'Cell_NTScore',\n",
    "    feature = 'Dcc',\n",
    "    fit_reg = True,\n",
    "    annotate_pos = 'upper left',\n",
    "    figszie = (4,3),\n",
    "    ylabel = 'Normalized Gene Expression',\n",
    "    scatter_kws = {'color': 'green', 's': 50},  # scatter parameters\n",
    "    line_kws = {'color': 'C0', 'lw': 2, 'ls': '-.'},  # line parameters\n",
    "    ci = 95,  # Size of the confidence interval for the regression estimate.\n",
    "    marker = 'x',  # Marker to use for the scatterplot glyphs.\n",
    ")"
   ]
  },
  {
   "cell_type": "markdown",
   "id": "7782878f-718c-4269-9f4f-6fcb60d5b3db",
   "metadata": {},
   "source": [
    "# regulon activity along trajectory"
   ]
  },
  {
   "cell_type": "code",
   "execution_count": 28,
   "id": "4db68322-5d1c-41cf-a56d-89deb2332a21",
   "metadata": {
    "execution": {
     "iopub.execute_input": "2025-06-03T01:51:46.063437Z",
     "iopub.status.busy": "2025-06-03T01:51:46.063255Z",
     "iopub.status.idle": "2025-06-03T01:51:46.072832Z",
     "shell.execute_reply": "2025-06-03T01:51:46.072521Z",
     "shell.execute_reply.started": "2025-06-03T01:51:46.063424Z"
    },
    "tags": []
   },
   "outputs": [
    {
     "data": {
      "text/html": [
       "<div>\n",
       "<style scoped>\n",
       "    .dataframe tbody tr th:only-of-type {\n",
       "        vertical-align: middle;\n",
       "    }\n",
       "\n",
       "    .dataframe tbody tr th {\n",
       "        vertical-align: top;\n",
       "    }\n",
       "\n",
       "    .dataframe thead th {\n",
       "        text-align: right;\n",
       "    }\n",
       "</style>\n",
       "<table border=\"1\" class=\"dataframe\">\n",
       "  <thead>\n",
       "    <tr style=\"text-align: right;\">\n",
       "      <th></th>\n",
       "      <th>Ahr</th>\n",
       "      <th>Alx1</th>\n",
       "      <th>Alx3</th>\n",
       "      <th>Alx4</th>\n",
       "      <th>Ar</th>\n",
       "    </tr>\n",
       "    <tr>\n",
       "      <th>Cell_ID</th>\n",
       "      <th></th>\n",
       "      <th></th>\n",
       "      <th></th>\n",
       "      <th></th>\n",
       "      <th></th>\n",
       "    </tr>\n",
       "  </thead>\n",
       "  <tbody>\n",
       "    <tr>\n",
       "      <th>E14_E1S3_171289</th>\n",
       "      <td>0.0</td>\n",
       "      <td>0.015500</td>\n",
       "      <td>0.014530</td>\n",
       "      <td>0.000000</td>\n",
       "      <td>0.0</td>\n",
       "    </tr>\n",
       "    <tr>\n",
       "      <th>E14_E1S3_171863</th>\n",
       "      <td>0.0</td>\n",
       "      <td>0.018301</td>\n",
       "      <td>0.017757</td>\n",
       "      <td>0.032068</td>\n",
       "      <td>0.0</td>\n",
       "    </tr>\n",
       "    <tr>\n",
       "      <th>E14_E1S3_171967</th>\n",
       "      <td>0.0</td>\n",
       "      <td>0.011018</td>\n",
       "      <td>0.009434</td>\n",
       "      <td>0.000000</td>\n",
       "      <td>0.0</td>\n",
       "    </tr>\n",
       "    <tr>\n",
       "      <th>E14_E1S3_171983</th>\n",
       "      <td>0.0</td>\n",
       "      <td>0.020709</td>\n",
       "      <td>0.000000</td>\n",
       "      <td>0.003596</td>\n",
       "      <td>0.0</td>\n",
       "    </tr>\n",
       "    <tr>\n",
       "      <th>E14_E1S3_172013</th>\n",
       "      <td>0.0</td>\n",
       "      <td>0.009773</td>\n",
       "      <td>0.008186</td>\n",
       "      <td>0.000000</td>\n",
       "      <td>0.0</td>\n",
       "    </tr>\n",
       "  </tbody>\n",
       "</table>\n",
       "</div>"
      ],
      "text/plain": [
       "                 Ahr      Alx1      Alx3      Alx4   Ar\n",
       "Cell_ID                                                \n",
       "E14_E1S3_171289  0.0  0.015500  0.014530  0.000000  0.0\n",
       "E14_E1S3_171863  0.0  0.018301  0.017757  0.032068  0.0\n",
       "E14_E1S3_171967  0.0  0.011018  0.009434  0.000000  0.0\n",
       "E14_E1S3_171983  0.0  0.020709  0.000000  0.003596  0.0\n",
       "E14_E1S3_172013  0.0  0.009773  0.008186  0.000000  0.0"
      ]
     },
     "execution_count": 28,
     "metadata": {},
     "output_type": "execute_result"
    }
   ],
   "source": [
    "E14_RGC_regulon_aucell_df = regulon_aucell_df.loc[target_cells.index]\n",
    "E14_RGC_regulon_aucell_df = E14_RGC_regulon_aucell_df.join(1-ana_data.NT_score['Cell_NTScore'] if hasattr(ana_data.options, 'reverse')\n",
    "                       and ana_data.options.reverse else ana_data.NT_score['Cell_NTScore'])\n",
    "E14_RGC_regulon_aucell_df.iloc[:5,:5]\n"
   ]
  },
  {
   "cell_type": "code",
   "execution_count": 29,
   "id": "91a260b8-569f-43d6-9f9d-6f47f1dad251",
   "metadata": {
    "execution": {
     "iopub.execute_input": "2025-06-03T01:51:46.073408Z",
     "iopub.status.busy": "2025-06-03T01:51:46.073267Z",
     "iopub.status.idle": "2025-06-03T01:51:46.088325Z",
     "shell.execute_reply": "2025-06-03T01:51:46.088015Z",
     "shell.execute_reply.started": "2025-06-03T01:51:46.073396Z"
    },
    "tags": []
   },
   "outputs": [
    {
     "data": {
      "text/html": [
       "<div>\n",
       "<style scoped>\n",
       "    .dataframe tbody tr th:only-of-type {\n",
       "        vertical-align: middle;\n",
       "    }\n",
       "\n",
       "    .dataframe tbody tr th {\n",
       "        vertical-align: top;\n",
       "    }\n",
       "\n",
       "    .dataframe thead th {\n",
       "        text-align: right;\n",
       "    }\n",
       "</style>\n",
       "<table border=\"1\" class=\"dataframe\">\n",
       "  <thead>\n",
       "    <tr style=\"text-align: right;\">\n",
       "      <th></th>\n",
       "      <th>Ahr</th>\n",
       "      <th>Alx1</th>\n",
       "      <th>Alx3</th>\n",
       "      <th>Alx4</th>\n",
       "      <th>Ar</th>\n",
       "    </tr>\n",
       "    <tr>\n",
       "      <th>Cell_ID</th>\n",
       "      <th></th>\n",
       "      <th></th>\n",
       "      <th></th>\n",
       "      <th></th>\n",
       "      <th></th>\n",
       "    </tr>\n",
       "  </thead>\n",
       "  <tbody>\n",
       "    <tr>\n",
       "      <th>E14_E1S3_173789</th>\n",
       "      <td>0.0</td>\n",
       "      <td>0.012552</td>\n",
       "      <td>0.019366</td>\n",
       "      <td>0.011585</td>\n",
       "      <td>0.000000</td>\n",
       "    </tr>\n",
       "    <tr>\n",
       "      <th>E14_E1S3_173259</th>\n",
       "      <td>0.0</td>\n",
       "      <td>0.019238</td>\n",
       "      <td>0.021671</td>\n",
       "      <td>0.014015</td>\n",
       "      <td>0.000000</td>\n",
       "    </tr>\n",
       "    <tr>\n",
       "      <th>E14_E1S3_174106</th>\n",
       "      <td>0.0</td>\n",
       "      <td>0.010374</td>\n",
       "      <td>0.022217</td>\n",
       "      <td>0.004985</td>\n",
       "      <td>0.014738</td>\n",
       "    </tr>\n",
       "    <tr>\n",
       "      <th>E14_E1S3_173417</th>\n",
       "      <td>0.0</td>\n",
       "      <td>0.024025</td>\n",
       "      <td>0.014273</td>\n",
       "      <td>0.005424</td>\n",
       "      <td>0.000000</td>\n",
       "    </tr>\n",
       "    <tr>\n",
       "      <th>E14_E1S3_173284</th>\n",
       "      <td>0.0</td>\n",
       "      <td>0.016657</td>\n",
       "      <td>0.011069</td>\n",
       "      <td>0.011577</td>\n",
       "      <td>0.014097</td>\n",
       "    </tr>\n",
       "  </tbody>\n",
       "</table>\n",
       "</div>"
      ],
      "text/plain": [
       "                 Ahr      Alx1      Alx3      Alx4        Ar\n",
       "Cell_ID                                                     \n",
       "E14_E1S3_173789  0.0  0.012552  0.019366  0.011585  0.000000\n",
       "E14_E1S3_173259  0.0  0.019238  0.021671  0.014015  0.000000\n",
       "E14_E1S3_174106  0.0  0.010374  0.022217  0.004985  0.014738\n",
       "E14_E1S3_173417  0.0  0.024025  0.014273  0.005424  0.000000\n",
       "E14_E1S3_173284  0.0  0.016657  0.011069  0.011577  0.014097"
      ]
     },
     "execution_count": 29,
     "metadata": {},
     "output_type": "execute_result"
    }
   ],
   "source": [
    "E14_RGC_regulon_aucell_metacell_data_df = construct_meta_cell_along_trajectory(meta_data_df = E14_RGC_regulon_aucell_df,\n",
    "                                                                trajectory = 'Cell_NTScore',\n",
    "                                                                n_cells = 10)\n",
    "E14_RGC_regulon_aucell_metacell_data_df.iloc[:5,:5]\n"
   ]
  },
  {
   "cell_type": "code",
   "execution_count": 30,
   "id": "e534839b-8ce3-45c5-ab48-2a252d9971f0",
   "metadata": {
    "execution": {
     "iopub.execute_input": "2025-06-03T01:51:46.089157Z",
     "iopub.status.busy": "2025-06-03T01:51:46.088864Z",
     "iopub.status.idle": "2025-06-03T01:51:46.205148Z",
     "shell.execute_reply": "2025-06-03T01:51:46.204790Z",
     "shell.execute_reply.started": "2025-06-03T01:51:46.089145Z"
    },
    "tags": []
   },
   "outputs": [
    {
     "data": {
      "image/png": "[encoded data removed]",
      "text/plain": [
       "<Figure size 400x300 with 1 Axes>"
      ]
     },
     "metadata": {},
     "output_type": "display_data"
    }
   ],
   "source": [
    "fig, ax = plot_scatter_feat_along_trajectory(\n",
    "    data_df = E14_RGC_regulon_aucell_metacell_data_df,\n",
    "    trajectory = 'Cell_NTScore',\n",
    "    feature = 'En2',\n",
    "    fit_reg = True,\n",
    "    annotate_pos = 'upper right',\n",
    "    figszie = (4,3),\n",
    "    ylabel = 'Regulon Activity',\n",
    "    ci = 95,\n",
    ")"
   ]
  },
  {
   "cell_type": "code",
   "execution_count": 31,
   "id": "6a6a6838-a955-4128-a704-6494c0bbd84e",
   "metadata": {
    "execution": {
     "iopub.execute_input": "2025-06-03T01:51:46.205867Z",
     "iopub.status.busy": "2025-06-03T01:51:46.205693Z",
     "iopub.status.idle": "2025-06-03T01:51:46.332620Z",
     "shell.execute_reply": "2025-06-03T01:51:46.332310Z",
     "shell.execute_reply.started": "2025-06-03T01:51:46.205855Z"
    },
    "tags": []
   },
   "outputs": [
    {
     "data": {
      "image/png": "[encoded data removed]",
      "text/plain": [
       "<Figure size 400x300 with 1 Axes>"
      ]
     },
     "metadata": {},
     "output_type": "display_data"
    }
   ],
   "source": [
    "fig, ax = plot_scatter_feat_along_trajectory(\n",
    "    data_df = E14_RGC_regulon_aucell_metacell_data_df,\n",
    "    trajectory = 'Cell_NTScore',\n",
    "    feature = 'Hes6',\n",
    "    fit_reg = True,\n",
    "    annotate_pos = 'upper right',\n",
    "    figszie = (4,3),\n",
    "    ylabel = 'Regulon Activity',\n",
    "    ci = 95,\n",
    ")"
   ]
  },
  {
   "cell_type": "markdown",
   "id": "b9be4f36-de29-43e5-8d3c-c62346d019b5",
   "metadata": {},
   "source": [
    "# differentiation potency along trajectory"
   ]
  },
  {
   "cell_type": "markdown",
   "id": "91491d23-7206-4178-96cd-3793d4b65a90",
   "metadata": {},
   "source": [
    "## load moscot results"
   ]
  },
  {
   "cell_type": "code",
   "execution_count": 32,
   "id": "71a29661-3c27-41a1-b82a-2219c697dd97",
   "metadata": {
    "execution": {
     "iopub.execute_input": "2025-06-03T01:51:46.333216Z",
     "iopub.status.busy": "2025-06-03T01:51:46.333076Z",
     "iopub.status.idle": "2025-06-03T01:51:46.336556Z",
     "shell.execute_reply": "2025-06-03T01:51:46.336200Z",
     "shell.execute_reply.started": "2025-06-03T01:51:46.333204Z"
    },
    "tags": []
   },
   "outputs": [],
   "source": [
    "def ot_res_process(ot_res):\n",
    "    ot_res = ot_res.loc[ot_res.index.isin(ana_data.meta_data_df.index),\n",
    "                       ot_res.columns.isin(ana_data.meta_data_df.index)]\n",
    "    top_5_indices = ot_res.apply(lambda row: row.nlargest(5).index, axis=1)\n",
    "    top_5_cell_types = top_5_indices.apply(lambda x: ana_data.meta_data_df.loc[x, 'Cell_Type'])\n",
    "    summary_df = top_5_cell_types.apply(lambda x: x.value_counts(), axis=1).fillna(0).astype(int)\n",
    "    summary_df = summary_df.loc[target_cells.index]\n",
    "    summary_df = summary_df.div(summary_df.sum(axis=1).values, axis=0)\n",
    "    summary_df = summary_df.join(1-ana_data.NT_score['Cell_NTScore'] if hasattr(ana_data.options, 'reverse')\n",
    "                       and ana_data.options.reverse else ana_data.NT_score['Cell_NTScore'])\n",
    "    \n",
    "    return summary_df\n",
    "    "
   ]
  },
  {
   "cell_type": "code",
   "execution_count": 33,
   "id": "70152bcd-ecda-4ee5-81de-5653d47c0714",
   "metadata": {
    "execution": {
     "iopub.execute_input": "2025-06-03T01:51:46.337246Z",
     "iopub.status.busy": "2025-06-03T01:51:46.337057Z",
     "iopub.status.idle": "2025-06-03T01:51:52.525510Z",
     "shell.execute_reply": "2025-06-03T01:51:52.525131Z",
     "shell.execute_reply.started": "2025-06-03T01:51:46.337233Z"
    },
    "tags": []
   },
   "outputs": [
    {
     "data": {
      "text/html": [
       "<div>\n",
       "<style scoped>\n",
       "    .dataframe tbody tr th:only-of-type {\n",
       "        vertical-align: middle;\n",
       "    }\n",
       "\n",
       "    .dataframe tbody tr th {\n",
       "        vertical-align: top;\n",
       "    }\n",
       "\n",
       "    .dataframe thead th {\n",
       "        text-align: right;\n",
       "    }\n",
       "</style>\n",
       "<table border=\"1\" class=\"dataframe\">\n",
       "  <thead>\n",
       "    <tr style=\"text-align: right;\">\n",
       "      <th></th>\n",
       "      <th>Basal</th>\n",
       "      <th>Endo</th>\n",
       "      <th>Ery</th>\n",
       "      <th>Fibro</th>\n",
       "      <th>GABA</th>\n",
       "    </tr>\n",
       "    <tr>\n",
       "      <th>Cell_ID</th>\n",
       "      <th></th>\n",
       "      <th></th>\n",
       "      <th></th>\n",
       "      <th></th>\n",
       "      <th></th>\n",
       "    </tr>\n",
       "  </thead>\n",
       "  <tbody>\n",
       "    <tr>\n",
       "      <th>E14_E1S3_171289</th>\n",
       "      <td>0.0</td>\n",
       "      <td>0.0</td>\n",
       "      <td>0.0</td>\n",
       "      <td>0.2</td>\n",
       "      <td>0.4</td>\n",
       "    </tr>\n",
       "    <tr>\n",
       "      <th>E14_E1S3_171863</th>\n",
       "      <td>0.0</td>\n",
       "      <td>0.0</td>\n",
       "      <td>0.0</td>\n",
       "      <td>0.0</td>\n",
       "      <td>0.0</td>\n",
       "    </tr>\n",
       "    <tr>\n",
       "      <th>E14_E1S3_171967</th>\n",
       "      <td>0.0</td>\n",
       "      <td>0.0</td>\n",
       "      <td>0.0</td>\n",
       "      <td>0.0</td>\n",
       "      <td>0.0</td>\n",
       "    </tr>\n",
       "    <tr>\n",
       "      <th>E14_E1S3_171983</th>\n",
       "      <td>0.0</td>\n",
       "      <td>0.0</td>\n",
       "      <td>0.0</td>\n",
       "      <td>0.0</td>\n",
       "      <td>0.2</td>\n",
       "    </tr>\n",
       "    <tr>\n",
       "      <th>E14_E1S3_172013</th>\n",
       "      <td>0.0</td>\n",
       "      <td>0.0</td>\n",
       "      <td>0.0</td>\n",
       "      <td>0.0</td>\n",
       "      <td>0.2</td>\n",
       "    </tr>\n",
       "  </tbody>\n",
       "</table>\n",
       "</div>"
      ],
      "text/plain": [
       "                 Basal  Endo  Ery  Fibro  GABA\n",
       "Cell_ID                                       \n",
       "E14_E1S3_171289    0.0   0.0  0.0    0.2   0.4\n",
       "E14_E1S3_171863    0.0   0.0  0.0    0.0   0.0\n",
       "E14_E1S3_171967    0.0   0.0  0.0    0.0   0.0\n",
       "E14_E1S3_171983    0.0   0.0  0.0    0.0   0.2\n",
       "E14_E1S3_172013    0.0   0.0  0.0    0.0   0.2"
      ]
     },
     "execution_count": 33,
     "metadata": {},
     "output_type": "execute_result"
    }
   ],
   "source": [
    "summary_df_1 = ot_res_process(ot_res1)\n",
    "summary_df_1.iloc[:5,:5]\n"
   ]
  },
  {
   "cell_type": "code",
   "execution_count": 34,
   "id": "985d9052-c664-4bf1-ad10-1a15c96989c4",
   "metadata": {
    "execution": {
     "iopub.execute_input": "2025-06-03T01:51:52.526218Z",
     "iopub.status.busy": "2025-06-03T01:51:52.526046Z",
     "iopub.status.idle": "2025-06-03T01:51:52.533313Z",
     "shell.execute_reply": "2025-06-03T01:51:52.533009Z",
     "shell.execute_reply.started": "2025-06-03T01:51:52.526206Z"
    },
    "tags": []
   },
   "outputs": [
    {
     "data": {
      "text/html": [
       "<div>\n",
       "<style scoped>\n",
       "    .dataframe tbody tr th:only-of-type {\n",
       "        vertical-align: middle;\n",
       "    }\n",
       "\n",
       "    .dataframe tbody tr th {\n",
       "        vertical-align: top;\n",
       "    }\n",
       "\n",
       "    .dataframe thead th {\n",
       "        text-align: right;\n",
       "    }\n",
       "</style>\n",
       "<table border=\"1\" class=\"dataframe\">\n",
       "  <thead>\n",
       "    <tr style=\"text-align: right;\">\n",
       "      <th></th>\n",
       "      <th>Basal</th>\n",
       "      <th>Endo</th>\n",
       "      <th>Ery</th>\n",
       "      <th>Fibro</th>\n",
       "      <th>GABA</th>\n",
       "    </tr>\n",
       "    <tr>\n",
       "      <th>Cell_ID</th>\n",
       "      <th></th>\n",
       "      <th></th>\n",
       "      <th></th>\n",
       "      <th></th>\n",
       "      <th></th>\n",
       "    </tr>\n",
       "  </thead>\n",
       "  <tbody>\n",
       "    <tr>\n",
       "      <th>E14_E1S3_173789</th>\n",
       "      <td>0.0</td>\n",
       "      <td>0.0</td>\n",
       "      <td>0.00</td>\n",
       "      <td>0.00</td>\n",
       "      <td>0.02</td>\n",
       "    </tr>\n",
       "    <tr>\n",
       "      <th>E14_E1S3_173259</th>\n",
       "      <td>0.0</td>\n",
       "      <td>0.0</td>\n",
       "      <td>0.00</td>\n",
       "      <td>0.02</td>\n",
       "      <td>0.00</td>\n",
       "    </tr>\n",
       "    <tr>\n",
       "      <th>E14_E1S3_174106</th>\n",
       "      <td>0.0</td>\n",
       "      <td>0.0</td>\n",
       "      <td>0.02</td>\n",
       "      <td>0.00</td>\n",
       "      <td>0.00</td>\n",
       "    </tr>\n",
       "    <tr>\n",
       "      <th>E14_E1S3_173417</th>\n",
       "      <td>0.0</td>\n",
       "      <td>0.0</td>\n",
       "      <td>0.00</td>\n",
       "      <td>0.02</td>\n",
       "      <td>0.08</td>\n",
       "    </tr>\n",
       "    <tr>\n",
       "      <th>E14_E1S3_173284</th>\n",
       "      <td>0.0</td>\n",
       "      <td>0.0</td>\n",
       "      <td>0.06</td>\n",
       "      <td>0.00</td>\n",
       "      <td>0.08</td>\n",
       "    </tr>\n",
       "  </tbody>\n",
       "</table>\n",
       "</div>"
      ],
      "text/plain": [
       "                 Basal  Endo   Ery  Fibro  GABA\n",
       "Cell_ID                                        \n",
       "E14_E1S3_173789    0.0   0.0  0.00   0.00  0.02\n",
       "E14_E1S3_173259    0.0   0.0  0.00   0.02  0.00\n",
       "E14_E1S3_174106    0.0   0.0  0.02   0.00  0.00\n",
       "E14_E1S3_173417    0.0   0.0  0.00   0.02  0.08\n",
       "E14_E1S3_173284    0.0   0.0  0.06   0.00  0.08"
      ]
     },
     "execution_count": 34,
     "metadata": {},
     "output_type": "execute_result"
    }
   ],
   "source": [
    "E14_RGC_metacell_diff_p_1_df = construct_meta_cell_along_trajectory(\n",
    "    meta_data_df = summary_df_1,\n",
    "    trajectory = 'Cell_NTScore',\n",
    "    n_cells = 10)\n",
    "E14_RGC_metacell_diff_p_1_df.iloc[:5,:5]"
   ]
  },
  {
   "cell_type": "code",
   "execution_count": 35,
   "id": "916dbf98-0cc9-41f6-ae4e-186411f0c4bd",
   "metadata": {
    "execution": {
     "iopub.execute_input": "2025-06-03T01:51:52.533901Z",
     "iopub.status.busy": "2025-06-03T01:51:52.533745Z",
     "iopub.status.idle": "2025-06-03T01:51:57.957705Z",
     "shell.execute_reply": "2025-06-03T01:51:57.957380Z",
     "shell.execute_reply.started": "2025-06-03T01:51:52.533890Z"
    },
    "tags": []
   },
   "outputs": [
    {
     "data": {
      "text/html": [
       "<div>\n",
       "<style scoped>\n",
       "    .dataframe tbody tr th:only-of-type {\n",
       "        vertical-align: middle;\n",
       "    }\n",
       "\n",
       "    .dataframe tbody tr th {\n",
       "        vertical-align: top;\n",
       "    }\n",
       "\n",
       "    .dataframe thead th {\n",
       "        text-align: right;\n",
       "    }\n",
       "</style>\n",
       "<table border=\"1\" class=\"dataframe\">\n",
       "  <thead>\n",
       "    <tr style=\"text-align: right;\">\n",
       "      <th></th>\n",
       "      <th>Basal</th>\n",
       "      <th>Endo</th>\n",
       "      <th>Ery</th>\n",
       "      <th>Fibro</th>\n",
       "      <th>GABA</th>\n",
       "    </tr>\n",
       "    <tr>\n",
       "      <th>Cell_ID</th>\n",
       "      <th></th>\n",
       "      <th></th>\n",
       "      <th></th>\n",
       "      <th></th>\n",
       "      <th></th>\n",
       "    </tr>\n",
       "  </thead>\n",
       "  <tbody>\n",
       "    <tr>\n",
       "      <th>E14_E1S3_173789</th>\n",
       "      <td>0.0</td>\n",
       "      <td>0.0</td>\n",
       "      <td>0.02</td>\n",
       "      <td>0.06</td>\n",
       "      <td>0.12</td>\n",
       "    </tr>\n",
       "    <tr>\n",
       "      <th>E14_E1S3_173259</th>\n",
       "      <td>0.0</td>\n",
       "      <td>0.0</td>\n",
       "      <td>0.00</td>\n",
       "      <td>0.00</td>\n",
       "      <td>0.08</td>\n",
       "    </tr>\n",
       "    <tr>\n",
       "      <th>E14_E1S3_174106</th>\n",
       "      <td>0.0</td>\n",
       "      <td>0.0</td>\n",
       "      <td>0.02</td>\n",
       "      <td>0.04</td>\n",
       "      <td>0.04</td>\n",
       "    </tr>\n",
       "    <tr>\n",
       "      <th>E14_E1S3_173417</th>\n",
       "      <td>0.0</td>\n",
       "      <td>0.0</td>\n",
       "      <td>0.02</td>\n",
       "      <td>0.00</td>\n",
       "      <td>0.04</td>\n",
       "    </tr>\n",
       "    <tr>\n",
       "      <th>E14_E1S3_173284</th>\n",
       "      <td>0.0</td>\n",
       "      <td>0.0</td>\n",
       "      <td>0.00</td>\n",
       "      <td>0.02</td>\n",
       "      <td>0.10</td>\n",
       "    </tr>\n",
       "  </tbody>\n",
       "</table>\n",
       "</div>"
      ],
      "text/plain": [
       "                 Basal  Endo   Ery  Fibro  GABA\n",
       "Cell_ID                                        \n",
       "E14_E1S3_173789    0.0   0.0  0.02   0.06  0.12\n",
       "E14_E1S3_173259    0.0   0.0  0.00   0.00  0.08\n",
       "E14_E1S3_174106    0.0   0.0  0.02   0.04  0.04\n",
       "E14_E1S3_173417    0.0   0.0  0.02   0.00  0.04\n",
       "E14_E1S3_173284    0.0   0.0  0.00   0.02  0.10"
      ]
     },
     "execution_count": 35,
     "metadata": {},
     "output_type": "execute_result"
    }
   ],
   "source": [
    "summary_df_2 = ot_res_process(ot_res2)\n",
    "E14_RGC_metacell_diff_p_2_df = construct_meta_cell_along_trajectory(\n",
    "    meta_data_df = summary_df_2,\n",
    "    trajectory = 'Cell_NTScore',\n",
    "    n_cells = 10)\n",
    "E14_RGC_metacell_diff_p_2_df.iloc[:5,:5]\n"
   ]
  },
  {
   "cell_type": "code",
   "execution_count": 36,
   "id": "84628bf3-328b-4806-8e7e-463c465435ea",
   "metadata": {
    "execution": {
     "iopub.execute_input": "2025-06-03T01:51:57.959200Z",
     "iopub.status.busy": "2025-06-03T01:51:57.958981Z",
     "iopub.status.idle": "2025-06-03T01:52:04.447722Z",
     "shell.execute_reply": "2025-06-03T01:52:04.447341Z",
     "shell.execute_reply.started": "2025-06-03T01:51:57.959188Z"
    },
    "tags": []
   },
   "outputs": [
    {
     "data": {
      "text/html": [
       "<div>\n",
       "<style scoped>\n",
       "    .dataframe tbody tr th:only-of-type {\n",
       "        vertical-align: middle;\n",
       "    }\n",
       "\n",
       "    .dataframe tbody tr th {\n",
       "        vertical-align: top;\n",
       "    }\n",
       "\n",
       "    .dataframe thead th {\n",
       "        text-align: right;\n",
       "    }\n",
       "</style>\n",
       "<table border=\"1\" class=\"dataframe\">\n",
       "  <thead>\n",
       "    <tr style=\"text-align: right;\">\n",
       "      <th></th>\n",
       "      <th>Basal</th>\n",
       "      <th>Endo</th>\n",
       "      <th>Ery</th>\n",
       "      <th>Fibro</th>\n",
       "      <th>GABA</th>\n",
       "    </tr>\n",
       "    <tr>\n",
       "      <th>Cell_ID</th>\n",
       "      <th></th>\n",
       "      <th></th>\n",
       "      <th></th>\n",
       "      <th></th>\n",
       "      <th></th>\n",
       "    </tr>\n",
       "  </thead>\n",
       "  <tbody>\n",
       "    <tr>\n",
       "      <th>E14_E1S3_173789</th>\n",
       "      <td>0.00</td>\n",
       "      <td>0.0</td>\n",
       "      <td>0.00</td>\n",
       "      <td>0.12</td>\n",
       "      <td>0.02</td>\n",
       "    </tr>\n",
       "    <tr>\n",
       "      <th>E14_E1S3_173259</th>\n",
       "      <td>0.02</td>\n",
       "      <td>0.0</td>\n",
       "      <td>0.02</td>\n",
       "      <td>0.04</td>\n",
       "      <td>0.02</td>\n",
       "    </tr>\n",
       "    <tr>\n",
       "      <th>E14_E1S3_174106</th>\n",
       "      <td>0.00</td>\n",
       "      <td>0.0</td>\n",
       "      <td>0.12</td>\n",
       "      <td>0.06</td>\n",
       "      <td>0.08</td>\n",
       "    </tr>\n",
       "    <tr>\n",
       "      <th>E14_E1S3_173417</th>\n",
       "      <td>0.02</td>\n",
       "      <td>0.0</td>\n",
       "      <td>0.04</td>\n",
       "      <td>0.06</td>\n",
       "      <td>0.04</td>\n",
       "    </tr>\n",
       "    <tr>\n",
       "      <th>E14_E1S3_173284</th>\n",
       "      <td>0.00</td>\n",
       "      <td>0.0</td>\n",
       "      <td>0.02</td>\n",
       "      <td>0.06</td>\n",
       "      <td>0.12</td>\n",
       "    </tr>\n",
       "  </tbody>\n",
       "</table>\n",
       "</div>"
      ],
      "text/plain": [
       "                 Basal  Endo   Ery  Fibro  GABA\n",
       "Cell_ID                                        \n",
       "E14_E1S3_173789   0.00   0.0  0.00   0.12  0.02\n",
       "E14_E1S3_173259   0.02   0.0  0.02   0.04  0.02\n",
       "E14_E1S3_174106   0.00   0.0  0.12   0.06  0.08\n",
       "E14_E1S3_173417   0.02   0.0  0.04   0.06  0.04\n",
       "E14_E1S3_173284   0.00   0.0  0.02   0.06  0.12"
      ]
     },
     "execution_count": 36,
     "metadata": {},
     "output_type": "execute_result"
    }
   ],
   "source": [
    "summary_df_3 = ot_res_process(ot_res3)\n",
    "E14_RGC_metacell_diff_p_3_df = construct_meta_cell_along_trajectory(\n",
    "    meta_data_df = summary_df_3,\n",
    "    trajectory = 'Cell_NTScore',\n",
    "    n_cells = 10)\n",
    "E14_RGC_metacell_diff_p_3_df.iloc[:5,:5]\n"
   ]
  },
  {
   "cell_type": "markdown",
   "id": "c68d60e4-35f2-4cf3-ba93-b313b70d1711",
   "metadata": {},
   "source": [
    "## merge all three replicates"
   ]
  },
  {
   "cell_type": "code",
   "execution_count": 37,
   "id": "5d240b10-c046-4c6b-aa40-62c7a863785b",
   "metadata": {
    "execution": {
     "iopub.execute_input": "2025-06-03T01:52:04.448384Z",
     "iopub.status.busy": "2025-06-03T01:52:04.448231Z",
     "iopub.status.idle": "2025-06-03T01:52:04.455787Z",
     "shell.execute_reply": "2025-06-03T01:52:04.455442Z",
     "shell.execute_reply.started": "2025-06-03T01:52:04.448373Z"
    },
    "tags": []
   },
   "outputs": [
    {
     "data": {
      "text/html": [
       "<div>\n",
       "<style scoped>\n",
       "    .dataframe tbody tr th:only-of-type {\n",
       "        vertical-align: middle;\n",
       "    }\n",
       "\n",
       "    .dataframe tbody tr th {\n",
       "        vertical-align: top;\n",
       "    }\n",
       "\n",
       "    .dataframe thead th {\n",
       "        text-align: right;\n",
       "    }\n",
       "</style>\n",
       "<table border=\"1\" class=\"dataframe\">\n",
       "  <thead>\n",
       "    <tr style=\"text-align: right;\">\n",
       "      <th></th>\n",
       "      <th>Cell_NTScore</th>\n",
       "      <th>Cell type</th>\n",
       "      <th>Percentage</th>\n",
       "      <th>replicate</th>\n",
       "    </tr>\n",
       "  </thead>\n",
       "  <tbody>\n",
       "    <tr>\n",
       "      <th>0</th>\n",
       "      <td>0.000230</td>\n",
       "      <td>Basal</td>\n",
       "      <td>0.0</td>\n",
       "      <td>rep1</td>\n",
       "    </tr>\n",
       "    <tr>\n",
       "      <th>1</th>\n",
       "      <td>0.000240</td>\n",
       "      <td>Basal</td>\n",
       "      <td>0.0</td>\n",
       "      <td>rep1</td>\n",
       "    </tr>\n",
       "    <tr>\n",
       "      <th>2</th>\n",
       "      <td>0.000250</td>\n",
       "      <td>Basal</td>\n",
       "      <td>0.0</td>\n",
       "      <td>rep1</td>\n",
       "    </tr>\n",
       "    <tr>\n",
       "      <th>3</th>\n",
       "      <td>0.000266</td>\n",
       "      <td>Basal</td>\n",
       "      <td>0.0</td>\n",
       "      <td>rep1</td>\n",
       "    </tr>\n",
       "    <tr>\n",
       "      <th>4</th>\n",
       "      <td>0.000285</td>\n",
       "      <td>Basal</td>\n",
       "      <td>0.0</td>\n",
       "      <td>rep1</td>\n",
       "    </tr>\n",
       "  </tbody>\n",
       "</table>\n",
       "</div>"
      ],
      "text/plain": [
       "   Cell_NTScore Cell type  Percentage replicate\n",
       "0      0.000230     Basal         0.0      rep1\n",
       "1      0.000240     Basal         0.0      rep1\n",
       "2      0.000250     Basal         0.0      rep1\n",
       "3      0.000266     Basal         0.0      rep1\n",
       "4      0.000285     Basal         0.0      rep1"
      ]
     },
     "execution_count": 37,
     "metadata": {},
     "output_type": "execute_result"
    }
   ],
   "source": [
    "E14_RGC_metacell_diff_p_1_melted_df = E14_RGC_metacell_diff_p_1_df.melt(\n",
    "    id_vars='Cell_NTScore',\n",
    "    value_vars=E14_RGC_metacell_diff_p_1_df.columns.tolist()[:-1],\n",
    "    var_name='Cell type',\n",
    "    value_name='Percentage')\n",
    "E14_RGC_metacell_diff_p_1_melted_df['replicate'] = ['rep1'] * E14_RGC_metacell_diff_p_1_melted_df.shape[0]\n",
    "E14_RGC_metacell_diff_p_1_melted_df.iloc[:5,:5]\n"
   ]
  },
  {
   "cell_type": "code",
   "execution_count": 38,
   "id": "2bc6e4dc-cc05-40f6-bcd1-4dc53865e1ad",
   "metadata": {
    "execution": {
     "iopub.execute_input": "2025-06-03T01:52:04.456474Z",
     "iopub.status.busy": "2025-06-03T01:52:04.456313Z",
     "iopub.status.idle": "2025-06-03T01:52:04.463630Z",
     "shell.execute_reply": "2025-06-03T01:52:04.463326Z",
     "shell.execute_reply.started": "2025-06-03T01:52:04.456462Z"
    },
    "tags": []
   },
   "outputs": [
    {
     "data": {
      "text/html": [
       "<div>\n",
       "<style scoped>\n",
       "    .dataframe tbody tr th:only-of-type {\n",
       "        vertical-align: middle;\n",
       "    }\n",
       "\n",
       "    .dataframe tbody tr th {\n",
       "        vertical-align: top;\n",
       "    }\n",
       "\n",
       "    .dataframe thead th {\n",
       "        text-align: right;\n",
       "    }\n",
       "</style>\n",
       "<table border=\"1\" class=\"dataframe\">\n",
       "  <thead>\n",
       "    <tr style=\"text-align: right;\">\n",
       "      <th></th>\n",
       "      <th>Cell_NTScore</th>\n",
       "      <th>Cell type</th>\n",
       "      <th>Percentage</th>\n",
       "      <th>replicate</th>\n",
       "    </tr>\n",
       "  </thead>\n",
       "  <tbody>\n",
       "    <tr>\n",
       "      <th>0</th>\n",
       "      <td>0.000230</td>\n",
       "      <td>Basal</td>\n",
       "      <td>0.0</td>\n",
       "      <td>rep2</td>\n",
       "    </tr>\n",
       "    <tr>\n",
       "      <th>1</th>\n",
       "      <td>0.000240</td>\n",
       "      <td>Basal</td>\n",
       "      <td>0.0</td>\n",
       "      <td>rep2</td>\n",
       "    </tr>\n",
       "    <tr>\n",
       "      <th>2</th>\n",
       "      <td>0.000250</td>\n",
       "      <td>Basal</td>\n",
       "      <td>0.0</td>\n",
       "      <td>rep2</td>\n",
       "    </tr>\n",
       "    <tr>\n",
       "      <th>3</th>\n",
       "      <td>0.000266</td>\n",
       "      <td>Basal</td>\n",
       "      <td>0.0</td>\n",
       "      <td>rep2</td>\n",
       "    </tr>\n",
       "    <tr>\n",
       "      <th>4</th>\n",
       "      <td>0.000285</td>\n",
       "      <td>Basal</td>\n",
       "      <td>0.0</td>\n",
       "      <td>rep2</td>\n",
       "    </tr>\n",
       "  </tbody>\n",
       "</table>\n",
       "</div>"
      ],
      "text/plain": [
       "   Cell_NTScore Cell type  Percentage replicate\n",
       "0      0.000230     Basal         0.0      rep2\n",
       "1      0.000240     Basal         0.0      rep2\n",
       "2      0.000250     Basal         0.0      rep2\n",
       "3      0.000266     Basal         0.0      rep2\n",
       "4      0.000285     Basal         0.0      rep2"
      ]
     },
     "execution_count": 38,
     "metadata": {},
     "output_type": "execute_result"
    }
   ],
   "source": [
    "E14_RGC_metacell_diff_p_2_melted_df = E14_RGC_metacell_diff_p_2_df.melt(\n",
    "    id_vars='Cell_NTScore',\n",
    "    value_vars=E14_RGC_metacell_diff_p_2_df.columns.tolist()[:-1],\n",
    "    var_name='Cell type',\n",
    "    value_name='Percentage')\n",
    "E14_RGC_metacell_diff_p_2_melted_df['replicate'] = ['rep2'] * E14_RGC_metacell_diff_p_2_melted_df.shape[0]\n",
    "E14_RGC_metacell_diff_p_2_melted_df.iloc[:5,:5]\n"
   ]
  },
  {
   "cell_type": "code",
   "execution_count": 39,
   "id": "783f43bb-531c-4ef4-9475-e53fcea4bc4e",
   "metadata": {
    "execution": {
     "iopub.execute_input": "2025-06-03T01:52:04.464393Z",
     "iopub.status.busy": "2025-06-03T01:52:04.464184Z",
     "iopub.status.idle": "2025-06-03T01:52:04.473235Z",
     "shell.execute_reply": "2025-06-03T01:52:04.472871Z",
     "shell.execute_reply.started": "2025-06-03T01:52:04.464380Z"
    },
    "tags": []
   },
   "outputs": [
    {
     "data": {
      "text/html": [
       "<div>\n",
       "<style scoped>\n",
       "    .dataframe tbody tr th:only-of-type {\n",
       "        vertical-align: middle;\n",
       "    }\n",
       "\n",
       "    .dataframe tbody tr th {\n",
       "        vertical-align: top;\n",
       "    }\n",
       "\n",
       "    .dataframe thead th {\n",
       "        text-align: right;\n",
       "    }\n",
       "</style>\n",
       "<table border=\"1\" class=\"dataframe\">\n",
       "  <thead>\n",
       "    <tr style=\"text-align: right;\">\n",
       "      <th></th>\n",
       "      <th>Cell_NTScore</th>\n",
       "      <th>Cell type</th>\n",
       "      <th>Percentage</th>\n",
       "      <th>replicate</th>\n",
       "    </tr>\n",
       "  </thead>\n",
       "  <tbody>\n",
       "    <tr>\n",
       "      <th>0</th>\n",
       "      <td>0.000230</td>\n",
       "      <td>Basal</td>\n",
       "      <td>0.00</td>\n",
       "      <td>rep3</td>\n",
       "    </tr>\n",
       "    <tr>\n",
       "      <th>1</th>\n",
       "      <td>0.000240</td>\n",
       "      <td>Basal</td>\n",
       "      <td>0.02</td>\n",
       "      <td>rep3</td>\n",
       "    </tr>\n",
       "    <tr>\n",
       "      <th>2</th>\n",
       "      <td>0.000250</td>\n",
       "      <td>Basal</td>\n",
       "      <td>0.00</td>\n",
       "      <td>rep3</td>\n",
       "    </tr>\n",
       "    <tr>\n",
       "      <th>3</th>\n",
       "      <td>0.000266</td>\n",
       "      <td>Basal</td>\n",
       "      <td>0.02</td>\n",
       "      <td>rep3</td>\n",
       "    </tr>\n",
       "    <tr>\n",
       "      <th>4</th>\n",
       "      <td>0.000285</td>\n",
       "      <td>Basal</td>\n",
       "      <td>0.00</td>\n",
       "      <td>rep3</td>\n",
       "    </tr>\n",
       "  </tbody>\n",
       "</table>\n",
       "</div>"
      ],
      "text/plain": [
       "   Cell_NTScore Cell type  Percentage replicate\n",
       "0      0.000230     Basal        0.00      rep3\n",
       "1      0.000240     Basal        0.02      rep3\n",
       "2      0.000250     Basal        0.00      rep3\n",
       "3      0.000266     Basal        0.02      rep3\n",
       "4      0.000285     Basal        0.00      rep3"
      ]
     },
     "execution_count": 39,
     "metadata": {},
     "output_type": "execute_result"
    }
   ],
   "source": [
    "E14_RGC_metacell_diff_p_3_melted_df = E14_RGC_metacell_diff_p_3_df.melt(\n",
    "    id_vars='Cell_NTScore',\n",
    "    value_vars=E14_RGC_metacell_diff_p_3_df.columns.tolist()[:-1],\n",
    "    var_name='Cell type',\n",
    "    value_name='Percentage')\n",
    "E14_RGC_metacell_diff_p_3_melted_df['replicate'] = ['rep3'] * E14_RGC_metacell_diff_p_3_melted_df.shape[0]\n",
    "E14_RGC_metacell_diff_p_3_melted_df.iloc[:5,:5]\n"
   ]
  },
  {
   "cell_type": "code",
   "execution_count": 40,
   "id": "38554c2a-6abb-4369-b6ba-faca722e663e",
   "metadata": {
    "execution": {
     "iopub.execute_input": "2025-06-03T01:52:04.473860Z",
     "iopub.status.busy": "2025-06-03T01:52:04.473701Z",
     "iopub.status.idle": "2025-06-03T01:52:04.481494Z",
     "shell.execute_reply": "2025-06-03T01:52:04.481194Z",
     "shell.execute_reply.started": "2025-06-03T01:52:04.473849Z"
    },
    "tags": []
   },
   "outputs": [
    {
     "data": {
      "text/html": [
       "<div>\n",
       "<style scoped>\n",
       "    .dataframe tbody tr th:only-of-type {\n",
       "        vertical-align: middle;\n",
       "    }\n",
       "\n",
       "    .dataframe tbody tr th {\n",
       "        vertical-align: top;\n",
       "    }\n",
       "\n",
       "    .dataframe thead th {\n",
       "        text-align: right;\n",
       "    }\n",
       "</style>\n",
       "<table border=\"1\" class=\"dataframe\">\n",
       "  <thead>\n",
       "    <tr style=\"text-align: right;\">\n",
       "      <th></th>\n",
       "      <th>Cell_NTScore</th>\n",
       "      <th>Cell type</th>\n",
       "      <th>Percentage</th>\n",
       "      <th>replicate</th>\n",
       "    </tr>\n",
       "  </thead>\n",
       "  <tbody>\n",
       "    <tr>\n",
       "      <th>0</th>\n",
       "      <td>0.000230</td>\n",
       "      <td>Basal</td>\n",
       "      <td>0.0</td>\n",
       "      <td>rep1</td>\n",
       "    </tr>\n",
       "    <tr>\n",
       "      <th>1</th>\n",
       "      <td>0.000240</td>\n",
       "      <td>Basal</td>\n",
       "      <td>0.0</td>\n",
       "      <td>rep1</td>\n",
       "    </tr>\n",
       "    <tr>\n",
       "      <th>2</th>\n",
       "      <td>0.000250</td>\n",
       "      <td>Basal</td>\n",
       "      <td>0.0</td>\n",
       "      <td>rep1</td>\n",
       "    </tr>\n",
       "    <tr>\n",
       "      <th>3</th>\n",
       "      <td>0.000266</td>\n",
       "      <td>Basal</td>\n",
       "      <td>0.0</td>\n",
       "      <td>rep1</td>\n",
       "    </tr>\n",
       "    <tr>\n",
       "      <th>4</th>\n",
       "      <td>0.000285</td>\n",
       "      <td>Basal</td>\n",
       "      <td>0.0</td>\n",
       "      <td>rep1</td>\n",
       "    </tr>\n",
       "  </tbody>\n",
       "</table>\n",
       "</div>"
      ],
      "text/plain": [
       "   Cell_NTScore Cell type  Percentage replicate\n",
       "0      0.000230     Basal         0.0      rep1\n",
       "1      0.000240     Basal         0.0      rep1\n",
       "2      0.000250     Basal         0.0      rep1\n",
       "3      0.000266     Basal         0.0      rep1\n",
       "4      0.000285     Basal         0.0      rep1"
      ]
     },
     "execution_count": 40,
     "metadata": {},
     "output_type": "execute_result"
    }
   ],
   "source": [
    "E14_RGC_metacell_diff_p_melted = pd.concat([E14_RGC_metacell_diff_p_1_melted_df,\n",
    "                                            E14_RGC_metacell_diff_p_2_melted_df,\n",
    "                                            E14_RGC_metacell_diff_p_3_melted_df])\n",
    "E14_RGC_metacell_diff_p_melted.head()"
   ]
  },
  {
   "cell_type": "markdown",
   "id": "6ebf1ed9-8aec-4777-a349-0ce2691bee8d",
   "metadata": {},
   "source": [
    "## visualization"
   ]
  },
  {
   "cell_type": "code",
   "execution_count": 41,
   "id": "0e64dc04-1112-4649-9b00-f570552683fd",
   "metadata": {
    "execution": {
     "iopub.execute_input": "2025-06-03T01:52:04.482110Z",
     "iopub.status.busy": "2025-06-03T01:52:04.481955Z",
     "iopub.status.idle": "2025-06-03T01:52:04.672497Z",
     "shell.execute_reply": "2025-06-03T01:52:04.672162Z",
     "shell.execute_reply.started": "2025-06-03T01:52:04.482098Z"
    },
    "tags": []
   },
   "outputs": [
    {
     "data": {
      "text/plain": [
       "<seaborn.axisgrid.FacetGrid at 0x14944a941f10>"
      ]
     },
     "execution_count": 41,
     "metadata": {},
     "output_type": "execute_result"
    },
    {
     "data": {
      "image/png": "[encoded data removed]",
      "text/plain": [
       "<Figure size 584.75x500 with 1 Axes>"
      ]
     },
     "metadata": {},
     "output_type": "display_data"
    }
   ],
   "source": [
    "sns.lmplot(data = E14_RGC_metacell_diff_p_melted[E14_RGC_metacell_diff_p_melted['Cell type'].isin(['RGC', 'NeuB'])],\n",
    "           x = 'Cell_NTScore',\n",
    "           y = 'Percentage',\n",
    "           hue = 'Cell type',\n",
    "           scatter_kws={'edgecolor': None},\n",
    "           ci=None,\n",
    "          )"
   ]
  },
  {
   "cell_type": "markdown",
   "id": "0d2ff77e-a4d7-41f8-a88f-1bcd341c7c5b",
   "metadata": {},
   "source": [
    "# Session Info"
   ]
  },
  {
   "cell_type": "code",
   "execution_count": 42,
   "id": "e8b40d11-a8fd-47c2-97d3-83f87240dbac",
   "metadata": {
    "execution": {
     "iopub.execute_input": "2025-06-03T01:53:11.580867Z",
     "iopub.status.busy": "2025-06-03T01:53:11.580589Z",
     "iopub.status.idle": "2025-06-03T01:53:12.366041Z",
     "shell.execute_reply": "2025-06-03T01:53:12.365652Z",
     "shell.execute_reply.started": "2025-06-03T01:53:11.580852Z"
    },
    "tags": []
   },
   "outputs": [
    {
     "data": {
      "text/html": [
       "<details>\n",
       "<summary>Click to view session information</summary>\n",
       "<pre>\n",
       "-----\n",
       "ONTraC              1.2.0\n",
       "matplotlib          3.8.4\n",
       "numpy               1.26.4\n",
       "pandas              2.2.1\n",
       "requests            2.31.0\n",
       "seaborn             0.13.2\n",
       "session_info        1.0.0\n",
       "-----\n",
       "</pre>\n",
       "<details>\n",
       "<summary>Click to view modules imported as dependencies</summary>\n",
       "<pre>\n",
       "PIL                 10.3.0\n",
       "asttokens           NA\n",
       "certifi             2024.02.02\n",
       "charset_normalizer  3.3.2\n",
       "colorama            0.4.6\n",
       "comm                0.2.2\n",
       "cycler              0.12.1\n",
       "cython_runtime      NA\n",
       "dateutil            2.9.0.post0\n",
       "debugpy             1.8.1\n",
       "decorator           5.1.1\n",
       "executing           2.0.1\n",
       "idna                3.7\n",
       "ipykernel           6.29.4\n",
       "jedi                0.19.1\n",
       "kiwisolver          1.4.5\n",
       "matplotlib_inline   0.1.7\n",
       "mpl_toolkits        NA\n",
       "packaging           24.0\n",
       "parso               0.8.4\n",
       "patsy               0.5.6\n",
       "platformdirs        4.2.1\n",
       "prompt_toolkit      3.0.43\n",
       "psutil              5.9.8\n",
       "pure_eval           0.2.2\n",
       "pydev_ipython       NA\n",
       "pydevconsole        NA\n",
       "pydevd              2.9.5\n",
       "pydevd_file_utils   NA\n",
       "pydevd_plugins      NA\n",
       "pydevd_tracing      NA\n",
       "pygments            2.17.2\n",
       "pyparsing           3.1.2\n",
       "pytz                2024.1\n",
       "scipy               1.14.1\n",
       "six                 1.16.0\n",
       "stack_data          0.6.3\n",
       "statsmodels         0.14.4\n",
       "tornado             6.4\n",
       "traitlets           5.14.3\n",
       "typing_extensions   NA\n",
       "urllib3             2.2.1\n",
       "wcwidth             0.2.13\n",
       "yaml                6.0.1\n",
       "zmq                 26.0.2\n",
       "</pre>\n",
       "</details> <!-- seems like this ends pre, so might as well be explicit -->\n",
       "<pre>\n",
       "-----\n",
       "IPython             8.23.0\n",
       "jupyter_client      8.6.1\n",
       "jupyter_core        5.7.2\n",
       "-----\n",
       "Python 3.11.9 | packaged by conda-forge | (main, Apr 19 2024, 18:36:13) [GCC 12.3.0]\n",
       "Linux-5.14.0-427.13.1.el9_4.x86_64-x86_64-with-glibc2.34\n",
       "-----\n",
       "Session information updated at 2025-06-02 21:53\n",
       "</pre>\n",
       "</details>"
      ],
      "text/plain": [
       "<IPython.core.display.HTML object>"
      ]
     },
     "execution_count": 42,
     "metadata": {},
     "output_type": "execute_result"
    }
   ],
   "source": [
    "import session_info\n",
    "\n",
    "session_info.show()"
   ]
  },
  {
   "cell_type": "code",
   "execution_count": null,
   "id": "ebe5c293-823e-4947-9e8b-cdc1714e0983",
   "metadata": {},
   "outputs": [],
   "source": []
  }
 ],
 "metadata": {
  "kernelspec": {
   "display_name": "Python (ONTraC)",
   "language": "python",
   "name": "ontrac"
  },
  "language_info": {
   "codemirror_mode": {
    "name": "ipython",
    "version": 3
   },
   "file_extension": ".py",
   "mimetype": "text/x-python",
   "name": "python",
   "nbconvert_exporter": "python",
   "pygments_lexer": "ipython3",
   "version": "3.11.9"
  },
  "toc-autonumbering": true
 },
 "nbformat": 4,
 "nbformat_minor": 5
}
